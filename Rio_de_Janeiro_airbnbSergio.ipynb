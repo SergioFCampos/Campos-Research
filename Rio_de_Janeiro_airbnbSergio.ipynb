{
  "nbformat": 4,
  "nbformat_minor": 0,
  "metadata": {
    "colab": {
      "name": "Rio de Janeiro airbnbSergio.ipynb",
      "provenance": [],
      "collapsed_sections": [],
      "authorship_tag": "ABX9TyMtrS8Pp+SizTckl0Cz62jB",
      "include_colab_link": true
    },
    "kernelspec": {
      "name": "python3",
      "display_name": "Python 3"
    }
  },
  "cells": [
    {
      "cell_type": "markdown",
      "metadata": {
        "id": "view-in-github",
        "colab_type": "text"
      },
      "source": [
        "<a href=\"https://colab.research.google.com/github/SergioFCampos/Campos-Research/blob/master/Rio_de_Janeiro_airbnbSergio.ipynb\" target=\"_parent\"><img src=\"https://colab.research.google.com/assets/colab-badge.svg\" alt=\"Open In Colab\"/></a>"
      ]
    },
    {
      "cell_type": "markdown",
      "metadata": {
        "id": "6sSCetQWgidf",
        "colab_type": "text"
      },
      "source": [
        "# Análise Airbnb Rio de Janeiro\n"
      ]
    },
    {
      "cell_type": "markdown",
      "metadata": {
        "id": "_WlFIdGsgvM9",
        "colab_type": "text"
      },
      "source": [
        "### Contexto "
      ]
    },
    {
      "cell_type": "markdown",
      "metadata": {
        "id": "FLTCztgsgzj-",
        "colab_type": "text"
      },
      "source": [
        "A AirBnB é uma empresa gigante que oferece hospedagem para milhões de pessoas ao redor do mundo. O detalhe é que , como todos sabem, a empresa não possui nenhum hotel ,nem pousadas .\n",
        "\n",
        "\"A missão da AirBnB fundamenta-se na ideia de que as pessoas são essencialmente boas e que uma comunidade é um lugar onde você possa se sentir em casa.\"\n",
        "*Parte da missão por Brian Chesky -CEO e cofundador do Airbnb*\n",
        "\n"
      ]
    },
    {
      "cell_type": "markdown",
      "metadata": {
        "id": "GD3gD8w6qMmX",
        "colab_type": "text"
      },
      "source": [
        "###Obtenção de Dados"
      ]
    },
    {
      "cell_type": "markdown",
      "metadata": {
        "id": "kj0TStQDqRwt",
        "colab_type": "text"
      },
      "source": [
        "Os dados usados aqui são reais e foram obtidos a partir do site Inside Airbnb.\n",
        "\n",
        "O arquivo utilizado foi um resumo de dados considerando o Rio de Janeiro.\n",
        "\n"
      ]
    },
    {
      "cell_type": "markdown",
      "metadata": {
        "id": "RYgvuebKNg8-",
        "colab_type": "text"
      },
      "source": [
        "**Dicionário das variáveis**\n",
        "\n",
        "* id - número de id gerado para identificar o imóvel\n",
        "*   name - nome da propriedade anunciada\n",
        "*   host_id - número de id do proprietário (anfitrião) da propriedade\n",
        "*   host_name - Nome do anfitrião\n",
        "*   neighbourhood_group - esta coluna não contém nenhum valor válido\n",
        "*   neighbourhood - nome do bairro\n",
        "*   latitude - coordenada da latitude da propriedade\n",
        "*  longitude - coordenada da longitude da propriedade \n",
        "*   room_type - informa o tipo de quarto que é oferecido\n",
        "*   price - preço para alugar o imóvel\n",
        "*   minimum_nights - quantidade mínima de noites para reservar\n",
        "*   number_of_reviews - número de reviews que a propriedade possui\n",
        "*   last_review - data do último review\n",
        "*   reviews_per_month - quantidade de reviews por mês\n",
        "*   calculated_host_listings_count - quantidade de imóveis do mesmo anfitrião\n",
        "*   availability_365 - número de dias de disponibilidade dentro de 365 dias\n",
        "\n",
        "\n",
        "\n",
        "\n",
        "\n",
        "\n",
        "\n",
        "\n",
        "\n",
        "\n",
        "\n",
        "\n",
        "\n",
        "\n",
        "\n",
        "\n",
        "\n",
        "Antes de iniciar qualquer análise, vamos verificar a cara do nosso *dataset*, analisando as 5 primeiras entradas."
      ]
    },
    {
      "cell_type": "markdown",
      "metadata": {
        "id": "UKKJL6Hnrr1L",
        "colab_type": "text"
      },
      "source": [
        "Os dados levantados são referentes ao período dos ultimos 6 meses cosiderando a data de 20 de maior de 2020.\n",
        "\n"
      ]
    },
    {
      "cell_type": "code",
      "metadata": {
        "id": "oCBK7eNtqTGU",
        "colab_type": "code",
        "colab": {}
      },
      "source": [
        "import pandas as pd\n",
        "import matplotlib.pyplot as plt\n",
        "import seaborn as sns"
      ],
      "execution_count": 0,
      "outputs": []
    },
    {
      "cell_type": "code",
      "metadata": {
        "id": "rvsnb1cUr1IH",
        "colab_type": "code",
        "colab": {}
      },
      "source": [
        "df = pd.read_csv(\"http://data.insideairbnb.com/brazil/rj/rio-de-janeiro/2020-04-20/visualisations/listings.csv\")"
      ],
      "execution_count": 0,
      "outputs": []
    },
    {
      "cell_type": "code",
      "metadata": {
        "id": "GHu-7Q1rssHo",
        "colab_type": "code",
        "outputId": "ae073e9f-047b-4aed-8abf-8131736130d8",
        "colab": {
          "base_uri": "https://localhost:8080/",
          "height": 479
        }
      },
      "source": [
        "df.head()"
      ],
      "execution_count": 8,
      "outputs": [
        {
          "output_type": "execute_result",
          "data": {
            "text/html": [
              "<div>\n",
              "<style scoped>\n",
              "    .dataframe tbody tr th:only-of-type {\n",
              "        vertical-align: middle;\n",
              "    }\n",
              "\n",
              "    .dataframe tbody tr th {\n",
              "        vertical-align: top;\n",
              "    }\n",
              "\n",
              "    .dataframe thead th {\n",
              "        text-align: right;\n",
              "    }\n",
              "</style>\n",
              "<table border=\"1\" class=\"dataframe\">\n",
              "  <thead>\n",
              "    <tr style=\"text-align: right;\">\n",
              "      <th></th>\n",
              "      <th>id</th>\n",
              "      <th>name</th>\n",
              "      <th>host_id</th>\n",
              "      <th>host_name</th>\n",
              "      <th>neighbourhood_group</th>\n",
              "      <th>neighbourhood</th>\n",
              "      <th>latitude</th>\n",
              "      <th>longitude</th>\n",
              "      <th>room_type</th>\n",
              "      <th>price</th>\n",
              "      <th>minimum_nights</th>\n",
              "      <th>number_of_reviews</th>\n",
              "      <th>last_review</th>\n",
              "      <th>reviews_per_month</th>\n",
              "      <th>calculated_host_listings_count</th>\n",
              "      <th>availability_365</th>\n",
              "    </tr>\n",
              "  </thead>\n",
              "  <tbody>\n",
              "    <tr>\n",
              "      <th>0</th>\n",
              "      <td>17878</td>\n",
              "      <td>Very Nice 2Br - Copacabana - WiFi</td>\n",
              "      <td>68997</td>\n",
              "      <td>Matthias</td>\n",
              "      <td>NaN</td>\n",
              "      <td>Copacabana</td>\n",
              "      <td>-22.96592</td>\n",
              "      <td>-43.17896</td>\n",
              "      <td>Entire home/apt</td>\n",
              "      <td>218</td>\n",
              "      <td>5</td>\n",
              "      <td>251</td>\n",
              "      <td>2020-04-06</td>\n",
              "      <td>2.11</td>\n",
              "      <td>1</td>\n",
              "      <td>0</td>\n",
              "    </tr>\n",
              "    <tr>\n",
              "      <th>1</th>\n",
              "      <td>21280</td>\n",
              "      <td>Renovated Modern Apt. Near Beach</td>\n",
              "      <td>81163</td>\n",
              "      <td>Jules</td>\n",
              "      <td>NaN</td>\n",
              "      <td>Ipanema</td>\n",
              "      <td>-22.98467</td>\n",
              "      <td>-43.19611</td>\n",
              "      <td>Entire home/apt</td>\n",
              "      <td>422</td>\n",
              "      <td>5</td>\n",
              "      <td>94</td>\n",
              "      <td>2020-03-22</td>\n",
              "      <td>1.25</td>\n",
              "      <td>1</td>\n",
              "      <td>69</td>\n",
              "    </tr>\n",
              "    <tr>\n",
              "      <th>2</th>\n",
              "      <td>25026</td>\n",
              "      <td>Beautiful Modern Decorated Studio in Copa</td>\n",
              "      <td>102840</td>\n",
              "      <td>Viviane</td>\n",
              "      <td>NaN</td>\n",
              "      <td>Copacabana</td>\n",
              "      <td>-22.97712</td>\n",
              "      <td>-43.19045</td>\n",
              "      <td>Entire home/apt</td>\n",
              "      <td>158</td>\n",
              "      <td>7</td>\n",
              "      <td>238</td>\n",
              "      <td>2020-02-15</td>\n",
              "      <td>1.98</td>\n",
              "      <td>3</td>\n",
              "      <td>95</td>\n",
              "    </tr>\n",
              "    <tr>\n",
              "      <th>3</th>\n",
              "      <td>31560</td>\n",
              "      <td>NICE &amp; COZY 1BDR - IPANEMA BEACH</td>\n",
              "      <td>135635</td>\n",
              "      <td>Renata</td>\n",
              "      <td>NaN</td>\n",
              "      <td>Ipanema</td>\n",
              "      <td>-22.98302</td>\n",
              "      <td>-43.21427</td>\n",
              "      <td>Entire home/apt</td>\n",
              "      <td>342</td>\n",
              "      <td>2</td>\n",
              "      <td>282</td>\n",
              "      <td>2020-03-02</td>\n",
              "      <td>2.37</td>\n",
              "      <td>1</td>\n",
              "      <td>0</td>\n",
              "    </tr>\n",
              "    <tr>\n",
              "      <th>4</th>\n",
              "      <td>35636</td>\n",
              "      <td>Cosy flat close to Ipanema beach</td>\n",
              "      <td>153232</td>\n",
              "      <td>Patricia</td>\n",
              "      <td>NaN</td>\n",
              "      <td>Ipanema</td>\n",
              "      <td>-22.98816</td>\n",
              "      <td>-43.19359</td>\n",
              "      <td>Entire home/apt</td>\n",
              "      <td>479</td>\n",
              "      <td>2</td>\n",
              "      <td>181</td>\n",
              "      <td>2020-03-15</td>\n",
              "      <td>2.29</td>\n",
              "      <td>1</td>\n",
              "      <td>358</td>\n",
              "    </tr>\n",
              "  </tbody>\n",
              "</table>\n",
              "</div>"
            ],
            "text/plain": [
              "      id  ... availability_365\n",
              "0  17878  ...                0\n",
              "1  21280  ...               69\n",
              "2  25026  ...               95\n",
              "3  31560  ...                0\n",
              "4  35636  ...              358\n",
              "\n",
              "[5 rows x 16 columns]"
            ]
          },
          "metadata": {
            "tags": []
          },
          "execution_count": 8
        }
      ]
    },
    {
      "cell_type": "markdown",
      "metadata": {
        "id": "rgM693xPALYv",
        "colab_type": "text"
      },
      "source": [
        "## 1- Análise dos Dados Encontrados \n",
        "**Quantas Entradas? (volume de dados)- Quantas Variáveis? (tipo de dados**)"
      ]
    },
    {
      "cell_type": "code",
      "metadata": {
        "id": "V-VpZ1VWzXIr",
        "colab_type": "code",
        "cellView": "code",
        "outputId": "5e5fa1c8-e249-4ac7-b072-34bc033c35bd",
        "colab": {
          "base_uri": "https://localhost:8080/",
          "height": 68
        }
      },
      "source": [
        "\n",
        "#imprimir tipo de variavel e volume /quantidade\n",
        "print(\"Entradas:\\t {}\".format(df.shape[0]))\n",
        "print(\"Variaveis:\\t {} \\n\".format(df.shape[1]))"
      ],
      "execution_count": 9,
      "outputs": [
        {
          "output_type": "stream",
          "text": [
            "Entradas:\t 35870\n",
            "Variaveis:\t 16 \n",
            "\n"
          ],
          "name": "stdout"
        }
      ]
    },
    {
      "cell_type": "code",
      "metadata": {
        "id": "Z9jslpGX89Kf",
        "colab_type": "code",
        "outputId": "16cec109-cd79-467a-d158-8f04e822f648",
        "colab": {
          "base_uri": "https://localhost:8080/",
          "height": 306
        }
      },
      "source": [
        "display(df.dtypes)"
      ],
      "execution_count": 10,
      "outputs": [
        {
          "output_type": "display_data",
          "data": {
            "text/plain": [
              "id                                  int64\n",
              "name                               object\n",
              "host_id                             int64\n",
              "host_name                          object\n",
              "neighbourhood_group               float64\n",
              "neighbourhood                      object\n",
              "latitude                          float64\n",
              "longitude                         float64\n",
              "room_type                          object\n",
              "price                               int64\n",
              "minimum_nights                      int64\n",
              "number_of_reviews                   int64\n",
              "last_review                        object\n",
              "reviews_per_month                 float64\n",
              "calculated_host_listings_count      int64\n",
              "availability_365                    int64\n",
              "dtype: object"
            ]
          },
          "metadata": {
            "tags": []
          }
        }
      ]
    },
    {
      "cell_type": "markdown",
      "metadata": {
        "id": "NNusLDtbBapW",
        "colab_type": "text"
      },
      "source": [
        "##2- Qual a porcentagem de valores ausentes no DF(dataFrame)"
      ]
    },
    {
      "cell_type": "code",
      "metadata": {
        "id": "SizdAAsvC1Wd",
        "colab_type": "code",
        "outputId": "cca1cb76-9b5e-4bf0-d2d1-3f070af76d15",
        "colab": {
          "base_uri": "https://localhost:8080/",
          "height": 306
        }
      },
      "source": [
        "df.isnull().sum()"
      ],
      "execution_count": 11,
      "outputs": [
        {
          "output_type": "execute_result",
          "data": {
            "text/plain": [
              "id                                    0\n",
              "name                                 58\n",
              "host_id                               0\n",
              "host_name                             5\n",
              "neighbourhood_group               35870\n",
              "neighbourhood                         0\n",
              "latitude                              0\n",
              "longitude                             0\n",
              "room_type                             0\n",
              "price                                 0\n",
              "minimum_nights                        0\n",
              "number_of_reviews                     0\n",
              "last_review                       14766\n",
              "reviews_per_month                 14766\n",
              "calculated_host_listings_count        0\n",
              "availability_365                      0\n",
              "dtype: int64"
            ]
          },
          "metadata": {
            "tags": []
          },
          "execution_count": 11
        }
      ]
    },
    {
      "cell_type": "code",
      "metadata": {
        "id": "Nd5TnCsWDFFM",
        "colab_type": "code",
        "outputId": "a1f36585-ef2d-49b5-bc56-651ef7228f12",
        "colab": {
          "base_uri": "https://localhost:8080/",
          "height": 306
        }
      },
      "source": [
        "(df.isnull().sum()/df.shape[0]).sort_values(ascending=False)"
      ],
      "execution_count": 12,
      "outputs": [
        {
          "output_type": "execute_result",
          "data": {
            "text/plain": [
              "neighbourhood_group               1.000000\n",
              "reviews_per_month                 0.411653\n",
              "last_review                       0.411653\n",
              "name                              0.001617\n",
              "host_name                         0.000139\n",
              "availability_365                  0.000000\n",
              "calculated_host_listings_count    0.000000\n",
              "number_of_reviews                 0.000000\n",
              "minimum_nights                    0.000000\n",
              "price                             0.000000\n",
              "room_type                         0.000000\n",
              "longitude                         0.000000\n",
              "latitude                          0.000000\n",
              "neighbourhood                     0.000000\n",
              "host_id                           0.000000\n",
              "id                                0.000000\n",
              "dtype: float64"
            ]
          },
          "metadata": {
            "tags": []
          },
          "execution_count": 12
        }
      ]
    },
    {
      "cell_type": "markdown",
      "metadata": {
        "id": "ZBtqV0AoEwPg",
        "colab_type": "text"
      },
      "source": [
        "##3-Distribuição de variaveis - Histograma"
      ]
    },
    {
      "cell_type": "code",
      "metadata": {
        "id": "08WW0uiDE1wk",
        "colab_type": "code",
        "outputId": "fa5cb8df-9d80-4976-bdaa-a826545396ff",
        "colab": {
          "base_uri": "https://localhost:8080/",
          "height": 879
        }
      },
      "source": [
        "df.hist(bins=16,figsize=(20,15));"
      ],
      "execution_count": 13,
      "outputs": [
        {
          "output_type": "display_data",
          "data": {
            "image/png": "[encoded data removed]",
            "text/plain": [
              "<Figure size 1440x1080 with 12 Axes>"
            ]
          },
          "metadata": {
            "tags": [],
            "needs_background": "light"
          }
        }
      ]
    },
    {
      "cell_type": "markdown",
      "metadata": {
        "id": "SNjFlGBHGQnM",
        "colab_type": "text"
      },
      "source": [
        "##4- Existem Outliers?\n",
        "\n",
        "Importante especificar quais variaveis consideramos para fazer sentido"
      ]
    },
    {
      "cell_type": "code",
      "metadata": {
        "id": "U7cnXQWzID2u",
        "colab_type": "code",
        "outputId": "3d6a49ce-f1cf-43b0-e441-452b8c54368e",
        "colab": {
          "base_uri": "https://localhost:8080/",
          "height": 317
        }
      },
      "source": [
        "df.describe()"
      ],
      "execution_count": 0,
      "outputs": [
        {
          "output_type": "execute_result",
          "data": {
            "text/html": [
              "<div>\n",
              "<style scoped>\n",
              "    .dataframe tbody tr th:only-of-type {\n",
              "        vertical-align: middle;\n",
              "    }\n",
              "\n",
              "    .dataframe tbody tr th {\n",
              "        vertical-align: top;\n",
              "    }\n",
              "\n",
              "    .dataframe thead th {\n",
              "        text-align: right;\n",
              "    }\n",
              "</style>\n",
              "<table border=\"1\" class=\"dataframe\">\n",
              "  <thead>\n",
              "    <tr style=\"text-align: right;\">\n",
              "      <th></th>\n",
              "      <th>id</th>\n",
              "      <th>host_id</th>\n",
              "      <th>neighbourhood_group</th>\n",
              "      <th>latitude</th>\n",
              "      <th>longitude</th>\n",
              "      <th>price</th>\n",
              "      <th>minimum_nights</th>\n",
              "      <th>number_of_reviews</th>\n",
              "      <th>reviews_per_month</th>\n",
              "      <th>calculated_host_listings_count</th>\n",
              "      <th>availability_365</th>\n",
              "    </tr>\n",
              "  </thead>\n",
              "  <tbody>\n",
              "    <tr>\n",
              "      <th>count</th>\n",
              "      <td>3.587000e+04</td>\n",
              "      <td>3.587000e+04</td>\n",
              "      <td>0.0</td>\n",
              "      <td>35870.000000</td>\n",
              "      <td>35870.000000</td>\n",
              "      <td>35870.000000</td>\n",
              "      <td>35870.000000</td>\n",
              "      <td>35870.000000</td>\n",
              "      <td>21104.000000</td>\n",
              "      <td>35870.000000</td>\n",
              "      <td>35870.000000</td>\n",
              "    </tr>\n",
              "    <tr>\n",
              "      <th>mean</th>\n",
              "      <td>2.126134e+07</td>\n",
              "      <td>8.464870e+07</td>\n",
              "      <td>NaN</td>\n",
              "      <td>-22.965205</td>\n",
              "      <td>-43.251998</td>\n",
              "      <td>753.686367</td>\n",
              "      <td>4.781851</td>\n",
              "      <td>9.822972</td>\n",
              "      <td>0.652248</td>\n",
              "      <td>6.613995</td>\n",
              "      <td>180.371815</td>\n",
              "    </tr>\n",
              "    <tr>\n",
              "      <th>std</th>\n",
              "      <td>1.362578e+07</td>\n",
              "      <td>8.898633e+07</td>\n",
              "      <td>NaN</td>\n",
              "      <td>0.034922</td>\n",
              "      <td>0.096803</td>\n",
              "      <td>2229.366334</td>\n",
              "      <td>22.471085</td>\n",
              "      <td>25.827647</td>\n",
              "      <td>0.823388</td>\n",
              "      <td>22.769663</td>\n",
              "      <td>152.510778</td>\n",
              "    </tr>\n",
              "    <tr>\n",
              "      <th>min</th>\n",
              "      <td>1.787800e+04</td>\n",
              "      <td>1.173900e+04</td>\n",
              "      <td>NaN</td>\n",
              "      <td>-23.073400</td>\n",
              "      <td>-43.737090</td>\n",
              "      <td>0.000000</td>\n",
              "      <td>1.000000</td>\n",
              "      <td>0.000000</td>\n",
              "      <td>0.010000</td>\n",
              "      <td>1.000000</td>\n",
              "      <td>0.000000</td>\n",
              "    </tr>\n",
              "    <tr>\n",
              "      <th>25%</th>\n",
              "      <td>1.099704e+07</td>\n",
              "      <td>1.506266e+07</td>\n",
              "      <td>NaN</td>\n",
              "      <td>-22.984550</td>\n",
              "      <td>-43.318668</td>\n",
              "      <td>158.000000</td>\n",
              "      <td>1.000000</td>\n",
              "      <td>0.000000</td>\n",
              "      <td>0.130000</td>\n",
              "      <td>1.000000</td>\n",
              "      <td>0.000000</td>\n",
              "    </tr>\n",
              "    <tr>\n",
              "      <th>50%</th>\n",
              "      <td>1.707419e+07</td>\n",
              "      <td>5.640307e+07</td>\n",
              "      <td>NaN</td>\n",
              "      <td>-22.970730</td>\n",
              "      <td>-43.198660</td>\n",
              "      <td>298.000000</td>\n",
              "      <td>2.000000</td>\n",
              "      <td>1.000000</td>\n",
              "      <td>0.340000</td>\n",
              "      <td>1.000000</td>\n",
              "      <td>178.000000</td>\n",
              "    </tr>\n",
              "    <tr>\n",
              "      <th>75%</th>\n",
              "      <td>3.412351e+07</td>\n",
              "      <td>1.111400e+08</td>\n",
              "      <td>NaN</td>\n",
              "      <td>-22.947360</td>\n",
              "      <td>-43.186580</td>\n",
              "      <td>632.000000</td>\n",
              "      <td>4.000000</td>\n",
              "      <td>6.000000</td>\n",
              "      <td>0.830000</td>\n",
              "      <td>3.000000</td>\n",
              "      <td>363.000000</td>\n",
              "    </tr>\n",
              "    <tr>\n",
              "      <th>max</th>\n",
              "      <td>4.322784e+07</td>\n",
              "      <td>3.441701e+08</td>\n",
              "      <td>NaN</td>\n",
              "      <td>-22.750380</td>\n",
              "      <td>-43.104620</td>\n",
              "      <td>131727.000000</td>\n",
              "      <td>1123.000000</td>\n",
              "      <td>399.000000</td>\n",
              "      <td>9.570000</td>\n",
              "      <td>200.000000</td>\n",
              "      <td>365.000000</td>\n",
              "    </tr>\n",
              "  </tbody>\n",
              "</table>\n",
              "</div>"
            ],
            "text/plain": [
              "                 id  ...  availability_365\n",
              "count  3.587000e+04  ...      35870.000000\n",
              "mean   2.126134e+07  ...        180.371815\n",
              "std    1.362578e+07  ...        152.510778\n",
              "min    1.787800e+04  ...          0.000000\n",
              "25%    1.099704e+07  ...          0.000000\n",
              "50%    1.707419e+07  ...        178.000000\n",
              "75%    3.412351e+07  ...        363.000000\n",
              "max    4.322784e+07  ...        365.000000\n",
              "\n",
              "[8 rows x 11 columns]"
            ]
          },
          "metadata": {
            "tags": []
          },
          "execution_count": 21
        }
      ]
    },
    {
      "cell_type": "code",
      "metadata": {
        "id": "YCdlBbtvK6TN",
        "colab_type": "code",
        "outputId": "4f7d9164-dba4-4e2a-df19-fc9e711f7371",
        "colab": {
          "base_uri": "https://localhost:8080/",
          "height": 297
        }
      },
      "source": [
        "df[[\"price\",\"minimum_nights\",\"availability_365\",\"calculated_host_listings_count\",\"number_of_reviews\",\"reviews_per_month\"]].describe()"
      ],
      "execution_count": 0,
      "outputs": [
        {
          "output_type": "execute_result",
          "data": {
            "text/html": [
              "<div>\n",
              "<style scoped>\n",
              "    .dataframe tbody tr th:only-of-type {\n",
              "        vertical-align: middle;\n",
              "    }\n",
              "\n",
              "    .dataframe tbody tr th {\n",
              "        vertical-align: top;\n",
              "    }\n",
              "\n",
              "    .dataframe thead th {\n",
              "        text-align: right;\n",
              "    }\n",
              "</style>\n",
              "<table border=\"1\" class=\"dataframe\">\n",
              "  <thead>\n",
              "    <tr style=\"text-align: right;\">\n",
              "      <th></th>\n",
              "      <th>price</th>\n",
              "      <th>minimum_nights</th>\n",
              "      <th>availability_365</th>\n",
              "      <th>calculated_host_listings_count</th>\n",
              "      <th>number_of_reviews</th>\n",
              "      <th>reviews_per_month</th>\n",
              "    </tr>\n",
              "  </thead>\n",
              "  <tbody>\n",
              "    <tr>\n",
              "      <th>count</th>\n",
              "      <td>35870.000000</td>\n",
              "      <td>35870.000000</td>\n",
              "      <td>35870.000000</td>\n",
              "      <td>35870.000000</td>\n",
              "      <td>35870.000000</td>\n",
              "      <td>21104.000000</td>\n",
              "    </tr>\n",
              "    <tr>\n",
              "      <th>mean</th>\n",
              "      <td>753.686367</td>\n",
              "      <td>4.781851</td>\n",
              "      <td>180.371815</td>\n",
              "      <td>6.613995</td>\n",
              "      <td>9.822972</td>\n",
              "      <td>0.652248</td>\n",
              "    </tr>\n",
              "    <tr>\n",
              "      <th>std</th>\n",
              "      <td>2229.366334</td>\n",
              "      <td>22.471085</td>\n",
              "      <td>152.510778</td>\n",
              "      <td>22.769663</td>\n",
              "      <td>25.827647</td>\n",
              "      <td>0.823388</td>\n",
              "    </tr>\n",
              "    <tr>\n",
              "      <th>min</th>\n",
              "      <td>0.000000</td>\n",
              "      <td>1.000000</td>\n",
              "      <td>0.000000</td>\n",
              "      <td>1.000000</td>\n",
              "      <td>0.000000</td>\n",
              "      <td>0.010000</td>\n",
              "    </tr>\n",
              "    <tr>\n",
              "      <th>25%</th>\n",
              "      <td>158.000000</td>\n",
              "      <td>1.000000</td>\n",
              "      <td>0.000000</td>\n",
              "      <td>1.000000</td>\n",
              "      <td>0.000000</td>\n",
              "      <td>0.130000</td>\n",
              "    </tr>\n",
              "    <tr>\n",
              "      <th>50%</th>\n",
              "      <td>298.000000</td>\n",
              "      <td>2.000000</td>\n",
              "      <td>178.000000</td>\n",
              "      <td>1.000000</td>\n",
              "      <td>1.000000</td>\n",
              "      <td>0.340000</td>\n",
              "    </tr>\n",
              "    <tr>\n",
              "      <th>75%</th>\n",
              "      <td>632.000000</td>\n",
              "      <td>4.000000</td>\n",
              "      <td>363.000000</td>\n",
              "      <td>3.000000</td>\n",
              "      <td>6.000000</td>\n",
              "      <td>0.830000</td>\n",
              "    </tr>\n",
              "    <tr>\n",
              "      <th>max</th>\n",
              "      <td>131727.000000</td>\n",
              "      <td>1123.000000</td>\n",
              "      <td>365.000000</td>\n",
              "      <td>200.000000</td>\n",
              "      <td>399.000000</td>\n",
              "      <td>9.570000</td>\n",
              "    </tr>\n",
              "  </tbody>\n",
              "</table>\n",
              "</div>"
            ],
            "text/plain": [
              "               price  minimum_nights  ...  number_of_reviews  reviews_per_month\n",
              "count   35870.000000    35870.000000  ...       35870.000000       21104.000000\n",
              "mean      753.686367        4.781851  ...           9.822972           0.652248\n",
              "std      2229.366334       22.471085  ...          25.827647           0.823388\n",
              "min         0.000000        1.000000  ...           0.000000           0.010000\n",
              "25%       158.000000        1.000000  ...           0.000000           0.130000\n",
              "50%       298.000000        2.000000  ...           1.000000           0.340000\n",
              "75%       632.000000        4.000000  ...           6.000000           0.830000\n",
              "max    131727.000000     1123.000000  ...         399.000000           9.570000\n",
              "\n",
              "[8 rows x 6 columns]"
            ]
          },
          "metadata": {
            "tags": []
          },
          "execution_count": 22
        }
      ]
    },
    {
      "cell_type": "markdown",
      "metadata": {
        "id": "vlwjXw599zBw",
        "colab_type": "text"
      },
      "source": [
        "##A média do preço de aluguel é de 754 reais"
      ]
    },
    {
      "cell_type": "markdown",
      "metadata": {
        "id": "vhyZooHGMjpx",
        "colab_type": "text"
      },
      "source": [
        "## Comprovações \n",
        "**Preço**\n",
        "\n",
        "o valor maximo do preço de aluguelpor dia é de 131.727, muito alto.\n",
        "\n",
        "Considerando que 75% dos imoveis são alugados por menos de 632- algo errado\n",
        "\n",
        "**Minimo de noites**\n",
        "\n",
        "A média de noites que alguem aluga é de 4.8 noites\n",
        "Portanto um máximo de 1.123 noites , deve estar errado"
      ]
    },
    {
      "cell_type": "code",
      "metadata": {
        "id": "OYpdtFeoNqAY",
        "colab_type": "code",
        "outputId": "c0585eca-0bef-4e21-e3fe-0f32304fa3a4",
        "colab": {
          "base_uri": "https://localhost:8080/",
          "height": 211
        }
      },
      "source": [
        "df.minimum_nights.plot(kind='box', vert=False, figsize=(15, 3))\n",
        "plt.show()"
      ],
      "execution_count": 0,
      "outputs": [
        {
          "output_type": "display_data",
          "data": {
            "image/png": "[encoded data removed]",
            "text/plain": [
              "<Figure size 1080x216 with 1 Axes>"
            ]
          },
          "metadata": {
            "tags": [],
            "needs_background": "light"
          }
        }
      ]
    },
    {
      "cell_type": "code",
      "metadata": {
        "id": "ggK1EQoSQNW-",
        "colab_type": "code",
        "outputId": "b7cd9b7d-6422-46a7-a0bb-3c1590753119",
        "colab": {
          "base_uri": "https://localhost:8080/",
          "height": 68
        }
      },
      "source": [
        "print(\"minimum_nights: valores acima de 30:\")\n",
        "print(\"{} entradas\".format(len(df[df.minimum_nights > 30])))\n",
        "print(\"{:.4f}%\".format((len(df[df.minimum_nights > 30]) / df.shape[0])*100))"
      ],
      "execution_count": 0,
      "outputs": [
        {
          "output_type": "stream",
          "text": [
            "minimum_nights: valores acima de 30:\n",
            "224 entradas\n",
            "0.6245%\n"
          ],
          "name": "stdout"
        }
      ]
    },
    {
      "cell_type": "code",
      "metadata": {
        "id": "5zHGIYb5OT45",
        "colab_type": "code",
        "outputId": "bb5dd905-0e69-4b73-c9ec-ae1f5377f3e3",
        "colab": {
          "base_uri": "https://localhost:8080/",
          "height": 211
        }
      },
      "source": [
        "df.price.plot(kind='box', vert=False, figsize=(15, 3))\n",
        "plt.show()"
      ],
      "execution_count": 0,
      "outputs": [
        {
          "output_type": "display_data",
          "data": {
            "image/png": "[encoded data removed]",
            "text/plain": [
              "<Figure size 1080x216 with 1 Axes>"
            ]
          },
          "metadata": {
            "tags": [],
            "needs_background": "light"
          }
        }
      ]
    },
    {
      "cell_type": "code",
      "metadata": {
        "id": "6l-aiX21QTud",
        "colab_type": "code",
        "outputId": "f477e208-0125-4e3a-fe91-2273b619ebf8",
        "colab": {
          "base_uri": "https://localhost:8080/",
          "height": 68
        }
      },
      "source": [
        "print(\"Preço: valores acima de 2000:\")\n",
        "print(\"{} entradas\".format(len(df[df.price > 2000])))\n",
        "print(\"{:.4f}%\".format((len(df[df.price > 2000]) / df.shape[0])*100))"
      ],
      "execution_count": 0,
      "outputs": [
        {
          "output_type": "stream",
          "text": [
            "Preço: valores acima de 2000:\n",
            "2176 entradas\n",
            "6.0664%\n"
          ],
          "name": "stdout"
        }
      ]
    },
    {
      "cell_type": "markdown",
      "metadata": {
        "id": "kdTSxoVaQxX2",
        "colab_type": "text"
      },
      "source": [
        "Como tirar os Outliers? Histograma sem Outliers"
      ]
    },
    {
      "cell_type": "code",
      "metadata": {
        "id": "0VQe1mTEQ7BN",
        "colab_type": "code",
        "outputId": "0f5ff5d9-6e31-43df-902e-22b07b89d4c2",
        "colab": {
          "base_uri": "https://localhost:8080/",
          "height": 607
        }
      },
      "source": [
        "# remover os *outliers* \n",
        "df_clean = df.copy()\n",
        "df_clean.drop(df_clean[df_clean.price > 2500].index, axis=0, inplace=True)\n",
        "df_clean.drop(df_clean[df_clean.minimum_nights > 30].index, axis=0, inplace=True)\n",
        "\n",
        "# remover `neighbourhood_group`, pois está vazio\n",
        "df_clean.drop('neighbourhood_group', axis=1, inplace=True)\n",
        "\n",
        "# plotar o histograma para as variáveis numéricas\n",
        "df_clean.hist(bins=15, figsize=(15,10));"
      ],
      "execution_count": 14,
      "outputs": [
        {
          "output_type": "display_data",
          "data": {
            "image/png": "[encoded data removed]",
            "text/plain": [
              "<Figure size 1080x720 with 12 Axes>"
            ]
          },
          "metadata": {
            "tags": [],
            "needs_background": "light"
          }
        }
      ]
    },
    {
      "cell_type": "markdown",
      "metadata": {
        "id": "XaIkASdaTd15",
        "colab_type": "text"
      },
      "source": [
        "##5- Correlação entre variaveis"
      ]
    },
    {
      "cell_type": "markdown",
      "metadata": {
        "id": "4pcrIunDtAPA",
        "colab_type": "text"
      },
      "source": [
        "Correlação representa a inluencia de uma variavel em relação a outra, se as duas coisas estão relacionadas de alguma forma e com que intensidade.\n",
        "\n",
        "Matriz - Indices de correlação\n",
        "\n",
        "HeatMap"
      ]
    },
    {
      "cell_type": "code",
      "metadata": {
        "id": "xFnB1ih_spRh",
        "colab_type": "code",
        "outputId": "292cbc80-8520-43f5-d286-e513cd178ab8",
        "colab": {
          "base_uri": "https://localhost:8080/",
          "height": 235
        }
      },
      "source": [
        "corr = df_clean[['price', 'minimum_nights', 'number_of_reviews', 'reviews_per_month',\n",
        "    'calculated_host_listings_count', 'availability_365']].corr()\n",
        "\n",
        "display(corr)\n"
      ],
      "execution_count": 15,
      "outputs": [
        {
          "output_type": "display_data",
          "data": {
            "text/html": [
              "<div>\n",
              "<style scoped>\n",
              "    .dataframe tbody tr th:only-of-type {\n",
              "        vertical-align: middle;\n",
              "    }\n",
              "\n",
              "    .dataframe tbody tr th {\n",
              "        vertical-align: top;\n",
              "    }\n",
              "\n",
              "    .dataframe thead th {\n",
              "        text-align: right;\n",
              "    }\n",
              "</style>\n",
              "<table border=\"1\" class=\"dataframe\">\n",
              "  <thead>\n",
              "    <tr style=\"text-align: right;\">\n",
              "      <th></th>\n",
              "      <th>price</th>\n",
              "      <th>minimum_nights</th>\n",
              "      <th>number_of_reviews</th>\n",
              "      <th>reviews_per_month</th>\n",
              "      <th>calculated_host_listings_count</th>\n",
              "      <th>availability_365</th>\n",
              "    </tr>\n",
              "  </thead>\n",
              "  <tbody>\n",
              "    <tr>\n",
              "      <th>price</th>\n",
              "      <td>1.000000</td>\n",
              "      <td>0.183554</td>\n",
              "      <td>-0.163838</td>\n",
              "      <td>-0.162360</td>\n",
              "      <td>0.029056</td>\n",
              "      <td>-0.024110</td>\n",
              "    </tr>\n",
              "    <tr>\n",
              "      <th>minimum_nights</th>\n",
              "      <td>0.183554</td>\n",
              "      <td>1.000000</td>\n",
              "      <td>-0.066531</td>\n",
              "      <td>-0.082547</td>\n",
              "      <td>-0.035205</td>\n",
              "      <td>-0.023334</td>\n",
              "    </tr>\n",
              "    <tr>\n",
              "      <th>number_of_reviews</th>\n",
              "      <td>-0.163838</td>\n",
              "      <td>-0.066531</td>\n",
              "      <td>1.000000</td>\n",
              "      <td>0.646251</td>\n",
              "      <td>-0.024952</td>\n",
              "      <td>0.051965</td>\n",
              "    </tr>\n",
              "    <tr>\n",
              "      <th>reviews_per_month</th>\n",
              "      <td>-0.162360</td>\n",
              "      <td>-0.082547</td>\n",
              "      <td>0.646251</td>\n",
              "      <td>1.000000</td>\n",
              "      <td>-0.017001</td>\n",
              "      <td>-0.020999</td>\n",
              "    </tr>\n",
              "    <tr>\n",
              "      <th>calculated_host_listings_count</th>\n",
              "      <td>0.029056</td>\n",
              "      <td>-0.035205</td>\n",
              "      <td>-0.024952</td>\n",
              "      <td>-0.017001</td>\n",
              "      <td>1.000000</td>\n",
              "      <td>0.075258</td>\n",
              "    </tr>\n",
              "    <tr>\n",
              "      <th>availability_365</th>\n",
              "      <td>-0.024110</td>\n",
              "      <td>-0.023334</td>\n",
              "      <td>0.051965</td>\n",
              "      <td>-0.020999</td>\n",
              "      <td>0.075258</td>\n",
              "      <td>1.000000</td>\n",
              "    </tr>\n",
              "  </tbody>\n",
              "</table>\n",
              "</div>"
            ],
            "text/plain": [
              "                                   price  ...  availability_365\n",
              "price                           1.000000  ...         -0.024110\n",
              "minimum_nights                  0.183554  ...         -0.023334\n",
              "number_of_reviews              -0.163838  ...          0.051965\n",
              "reviews_per_month              -0.162360  ...         -0.020999\n",
              "calculated_host_listings_count  0.029056  ...          0.075258\n",
              "availability_365               -0.024110  ...          1.000000\n",
              "\n",
              "[6 rows x 6 columns]"
            ]
          },
          "metadata": {
            "tags": []
          }
        }
      ]
    },
    {
      "cell_type": "code",
      "metadata": {
        "id": "7w7fNUOsuRgA",
        "colab_type": "code",
        "outputId": "e6f22169-ac09-4d02-bfd0-d4a7d782206c",
        "colab": {
          "base_uri": "https://localhost:8080/",
          "height": 411
        }
      },
      "source": [
        "sns.heatmap(corr, cmap='RdBu', fmt='.2f', square=True, linecolor='white', annot=True);\n"
      ],
      "execution_count": 0,
      "outputs": [
        {
          "output_type": "display_data",
          "data": {
            "image/png": "[encoded data removed]",
            "text/plain": [
              "<Figure size 432x288 with 2 Axes>"
            ]
          },
          "metadata": {
            "tags": [],
            "needs_background": "light"
          }
        }
      ]
    },
    {
      "cell_type": "markdown",
      "metadata": {
        "id": "3CBMwGciXq4M",
        "colab_type": "text"
      },
      "source": [
        "##6- Qual o tipo de imovel mais alugado?"
      ]
    },
    {
      "cell_type": "markdown",
      "metadata": {
        "id": "DFliuDL_YN_v",
        "colab_type": "text"
      },
      "source": [
        "A denominação room_type é o tipo de imovel a ser alugado que está anunciado no Airbnb.\n",
        "\n",
        "Pode-se alugar apartamentos/casas inteiras,  quartos exclusivos e até quartos compartilhados\n",
        "\n",
        "vamos contar?"
      ]
    },
    {
      "cell_type": "code",
      "metadata": {
        "id": "QXIImEpYYubl",
        "colab_type": "code",
        "outputId": "fa50a03e-da21-472c-91f8-8aa3cce7ea42",
        "colab": {
          "base_uri": "https://localhost:8080/",
          "height": 102
        }
      },
      "source": [
        "df_clean.room_type.value_counts()"
      ],
      "execution_count": 0,
      "outputs": [
        {
          "output_type": "execute_result",
          "data": {
            "text/plain": [
              "Entire home/apt    24012\n",
              "Private room        9068\n",
              "Shared room          771\n",
              "Hotel room           160\n",
              "Name: room_type, dtype: int64"
            ]
          },
          "metadata": {
            "tags": []
          },
          "execution_count": 29
        }
      ]
    },
    {
      "cell_type": "code",
      "metadata": {
        "id": "QxK7mbjwZmtF",
        "colab_type": "code",
        "outputId": "17adf42f-de5f-44b9-8a0a-474c87c2014f",
        "colab": {
          "base_uri": "https://localhost:8080/",
          "height": 102
        }
      },
      "source": [
        "\n",
        "df_clean.room_type.value_counts() / df_clean.shape[0]"
      ],
      "execution_count": 0,
      "outputs": [
        {
          "output_type": "execute_result",
          "data": {
            "text/plain": [
              "Entire home/apt    0.706007\n",
              "Private room       0.266620\n",
              "Shared room        0.022669\n",
              "Hotel room         0.004704\n",
              "Name: room_type, dtype: float64"
            ]
          },
          "metadata": {
            "tags": []
          },
          "execution_count": 33
        }
      ]
    },
    {
      "cell_type": "markdown",
      "metadata": {
        "id": "mMNZ0CV6X5td",
        "colab_type": "text"
      },
      "source": [
        "##7- Localidade mais cara"
      ]
    },
    {
      "cell_type": "code",
      "metadata": {
        "id": "miiTupOAc18i",
        "colab_type": "code",
        "outputId": "9cded9c9-c6c4-4e11-8e57-fd1523eb2f2b",
        "colab": {
          "base_uri": "https://localhost:8080/",
          "height": 391
        }
      },
      "source": [
        "df_clean.groupby([\"neighbourhood\"]).price.mean().sort_values(ascending=False)[:20]"
      ],
      "execution_count": 16,
      "outputs": [
        {
          "output_type": "execute_result",
          "data": {
            "text/plain": [
              "neighbourhood\n",
              "Vaz Lobo                    875.666667\n",
              "Ricardo de Albuquerque      834.166667\n",
              "Engenheiro Leal             800.000000\n",
              "Joá                         786.118644\n",
              "Anchieta                    745.333333\n",
              "Vicente de Carvalho         691.555556\n",
              "Alto da Boa Vista           658.116279\n",
              "Lagoa                       630.234463\n",
              "Magalhães Bastos            605.500000\n",
              "Barra da Tijuca             604.467877\n",
              "São Conrado                 594.230769\n",
              "Leblon                      587.421296\n",
              "Maracanã                    584.297872\n",
              "Jacarepaguá                 583.748595\n",
              "Itanhangá                   572.506757\n",
              "Recreio dos Bandeirantes    562.710874\n",
              "Vargem Grande               561.267241\n",
              "Benfica                     546.000000\n",
              "Ipanema                     545.051575\n",
              "Engenho de Dentro           543.118421\n",
              "Name: price, dtype: float64"
            ]
          },
          "metadata": {
            "tags": []
          },
          "execution_count": 16
        }
      ]
    },
    {
      "cell_type": "code",
      "metadata": {
        "id": "JIxHR0I7fb66",
        "colab_type": "code",
        "colab": {}
      },
      "source": [
        "#quantos imoveis tem em VazLobo"
      ],
      "execution_count": 0,
      "outputs": []
    },
    {
      "cell_type": "code",
      "metadata": {
        "id": "NrjTQzeaff-c",
        "colab_type": "code",
        "outputId": "2c004076-73ad-4bd0-9756-3670daa57048",
        "colab": {
          "base_uri": "https://localhost:8080/",
          "height": 281
        }
      },
      "source": [
        "df_clean[df_clean.neighbourhood == \"Vaz Lobo\"]"
      ],
      "execution_count": 0,
      "outputs": [
        {
          "output_type": "execute_result",
          "data": {
            "text/html": [
              "<div>\n",
              "<style scoped>\n",
              "    .dataframe tbody tr th:only-of-type {\n",
              "        vertical-align: middle;\n",
              "    }\n",
              "\n",
              "    .dataframe tbody tr th {\n",
              "        vertical-align: top;\n",
              "    }\n",
              "\n",
              "    .dataframe thead th {\n",
              "        text-align: right;\n",
              "    }\n",
              "</style>\n",
              "<table border=\"1\" class=\"dataframe\">\n",
              "  <thead>\n",
              "    <tr style=\"text-align: right;\">\n",
              "      <th></th>\n",
              "      <th>id</th>\n",
              "      <th>name</th>\n",
              "      <th>host_id</th>\n",
              "      <th>host_name</th>\n",
              "      <th>neighbourhood</th>\n",
              "      <th>latitude</th>\n",
              "      <th>longitude</th>\n",
              "      <th>room_type</th>\n",
              "      <th>price</th>\n",
              "      <th>minimum_nights</th>\n",
              "      <th>number_of_reviews</th>\n",
              "      <th>last_review</th>\n",
              "      <th>reviews_per_month</th>\n",
              "      <th>calculated_host_listings_count</th>\n",
              "      <th>availability_365</th>\n",
              "    </tr>\n",
              "  </thead>\n",
              "  <tbody>\n",
              "    <tr>\n",
              "      <th>2908</th>\n",
              "      <td>2768499</td>\n",
              "      <td>Próximo ao Maracanã</td>\n",
              "      <td>14157867</td>\n",
              "      <td>Fernando</td>\n",
              "      <td>Vaz Lobo</td>\n",
              "      <td>-22.85955</td>\n",
              "      <td>-43.32918</td>\n",
              "      <td>Private room</td>\n",
              "      <td>1000</td>\n",
              "      <td>1</td>\n",
              "      <td>0</td>\n",
              "      <td>NaN</td>\n",
              "      <td>NaN</td>\n",
              "      <td>1</td>\n",
              "      <td>0</td>\n",
              "    </tr>\n",
              "    <tr>\n",
              "      <th>15776</th>\n",
              "      <td>14221134</td>\n",
              "      <td>casa  colonial  3  quartos, garagem</td>\n",
              "      <td>86402266</td>\n",
              "      <td>Lucia</td>\n",
              "      <td>Vaz Lobo</td>\n",
              "      <td>-22.85583</td>\n",
              "      <td>-43.32441</td>\n",
              "      <td>Entire home/apt</td>\n",
              "      <td>1329</td>\n",
              "      <td>15</td>\n",
              "      <td>0</td>\n",
              "      <td>NaN</td>\n",
              "      <td>NaN</td>\n",
              "      <td>1</td>\n",
              "      <td>365</td>\n",
              "    </tr>\n",
              "    <tr>\n",
              "      <th>33803</th>\n",
              "      <td>42012781</td>\n",
              "      <td>Casas flegler</td>\n",
              "      <td>332881900</td>\n",
              "      <td>Igor Flegler De Souza</td>\n",
              "      <td>Vaz Lobo</td>\n",
              "      <td>-22.86070</td>\n",
              "      <td>-43.32446</td>\n",
              "      <td>Private room</td>\n",
              "      <td>298</td>\n",
              "      <td>1</td>\n",
              "      <td>0</td>\n",
              "      <td>NaN</td>\n",
              "      <td>NaN</td>\n",
              "      <td>1</td>\n",
              "      <td>362</td>\n",
              "    </tr>\n",
              "  </tbody>\n",
              "</table>\n",
              "</div>"
            ],
            "text/plain": [
              "             id  ... availability_365\n",
              "2908    2768499  ...                0\n",
              "15776  14221134  ...              365\n",
              "33803  42012781  ...              362\n",
              "\n",
              "[3 rows x 15 columns]"
            ]
          },
          "metadata": {
            "tags": []
          },
          "execution_count": 41
        }
      ]
    },
    {
      "cell_type": "code",
      "metadata": {
        "id": "PUUATsQ3fv0F",
        "colab_type": "code",
        "outputId": "6ec93954-22e3-468f-a170-865b1e03abd7",
        "colab": {
          "base_uri": "https://localhost:8080/",
          "height": 1000
        }
      },
      "source": [
        "df_clean[df_clean.neighbourhood == \"Barra da Tijuca\"]"
      ],
      "execution_count": 0,
      "outputs": [
        {
          "output_type": "execute_result",
          "data": {
            "text/html": [
              "<div>\n",
              "<style scoped>\n",
              "    .dataframe tbody tr th:only-of-type {\n",
              "        vertical-align: middle;\n",
              "    }\n",
              "\n",
              "    .dataframe tbody tr th {\n",
              "        vertical-align: top;\n",
              "    }\n",
              "\n",
              "    .dataframe thead th {\n",
              "        text-align: right;\n",
              "    }\n",
              "</style>\n",
              "<table border=\"1\" class=\"dataframe\">\n",
              "  <thead>\n",
              "    <tr style=\"text-align: right;\">\n",
              "      <th></th>\n",
              "      <th>id</th>\n",
              "      <th>name</th>\n",
              "      <th>host_id</th>\n",
              "      <th>host_name</th>\n",
              "      <th>neighbourhood</th>\n",
              "      <th>latitude</th>\n",
              "      <th>longitude</th>\n",
              "      <th>room_type</th>\n",
              "      <th>price</th>\n",
              "      <th>minimum_nights</th>\n",
              "      <th>number_of_reviews</th>\n",
              "      <th>last_review</th>\n",
              "      <th>reviews_per_month</th>\n",
              "      <th>calculated_host_listings_count</th>\n",
              "      <th>availability_365</th>\n",
              "    </tr>\n",
              "  </thead>\n",
              "  <tbody>\n",
              "    <tr>\n",
              "      <th>33</th>\n",
              "      <td>86978</td>\n",
              "      <td>Room For a Rent : Rio de Janeiro</td>\n",
              "      <td>476838</td>\n",
              "      <td>Antonio</td>\n",
              "      <td>Barra da Tijuca</td>\n",
              "      <td>-22.97352</td>\n",
              "      <td>-43.38242</td>\n",
              "      <td>Private room</td>\n",
              "      <td>798</td>\n",
              "      <td>1</td>\n",
              "      <td>0</td>\n",
              "      <td>NaN</td>\n",
              "      <td>NaN</td>\n",
              "      <td>1</td>\n",
              "      <td>365</td>\n",
              "    </tr>\n",
              "    <tr>\n",
              "      <th>46</th>\n",
              "      <td>96431</td>\n",
              "      <td>Amazing ocean view !</td>\n",
              "      <td>511850</td>\n",
              "      <td>Marina E Ernani</td>\n",
              "      <td>Barra da Tijuca</td>\n",
              "      <td>-23.01159</td>\n",
              "      <td>-43.36925</td>\n",
              "      <td>Entire home/apt</td>\n",
              "      <td>229</td>\n",
              "      <td>4</td>\n",
              "      <td>41</td>\n",
              "      <td>2020-03-22</td>\n",
              "      <td>0.48</td>\n",
              "      <td>2</td>\n",
              "      <td>327</td>\n",
              "    </tr>\n",
              "    <tr>\n",
              "      <th>53</th>\n",
              "      <td>106372</td>\n",
              "      <td>Reveillon &amp; Natal na Barra da Tijuca. Rj</td>\n",
              "      <td>551316</td>\n",
              "      <td>Katia</td>\n",
              "      <td>Barra da Tijuca</td>\n",
              "      <td>-23.00890</td>\n",
              "      <td>-43.43049</td>\n",
              "      <td>Entire home/apt</td>\n",
              "      <td>358</td>\n",
              "      <td>4</td>\n",
              "      <td>7</td>\n",
              "      <td>2020-02-26</td>\n",
              "      <td>0.16</td>\n",
              "      <td>1</td>\n",
              "      <td>358</td>\n",
              "    </tr>\n",
              "    <tr>\n",
              "      <th>103</th>\n",
              "      <td>192548</td>\n",
              "      <td>Ampla Suíte - 100m da Praia Pepê/Barra da Tijuca</td>\n",
              "      <td>932671</td>\n",
              "      <td>Ricardo</td>\n",
              "      <td>Barra da Tijuca</td>\n",
              "      <td>-23.01283</td>\n",
              "      <td>-43.31187</td>\n",
              "      <td>Private room</td>\n",
              "      <td>548</td>\n",
              "      <td>2</td>\n",
              "      <td>1</td>\n",
              "      <td>2016-08-20</td>\n",
              "      <td>0.02</td>\n",
              "      <td>2</td>\n",
              "      <td>0</td>\n",
              "    </tr>\n",
              "    <tr>\n",
              "      <th>142</th>\n",
              "      <td>249616</td>\n",
              "      <td>Flat at Barra Near by WINDSOR HOTEL</td>\n",
              "      <td>1307761</td>\n",
              "      <td>Malí</td>\n",
              "      <td>Barra da Tijuca</td>\n",
              "      <td>-23.01129</td>\n",
              "      <td>-43.32305</td>\n",
              "      <td>Entire home/apt</td>\n",
              "      <td>197</td>\n",
              "      <td>3</td>\n",
              "      <td>220</td>\n",
              "      <td>2020-04-20</td>\n",
              "      <td>2.17</td>\n",
              "      <td>2</td>\n",
              "      <td>189</td>\n",
              "    </tr>\n",
              "    <tr>\n",
              "      <th>...</th>\n",
              "      <td>...</td>\n",
              "      <td>...</td>\n",
              "      <td>...</td>\n",
              "      <td>...</td>\n",
              "      <td>...</td>\n",
              "      <td>...</td>\n",
              "      <td>...</td>\n",
              "      <td>...</td>\n",
              "      <td>...</td>\n",
              "      <td>...</td>\n",
              "      <td>...</td>\n",
              "      <td>...</td>\n",
              "      <td>...</td>\n",
              "      <td>...</td>\n",
              "      <td>...</td>\n",
              "    </tr>\n",
              "    <tr>\n",
              "      <th>35713</th>\n",
              "      <td>43198921</td>\n",
              "      <td>Sunshine Great  Ocean View</td>\n",
              "      <td>317446019</td>\n",
              "      <td>Zeus</td>\n",
              "      <td>Barra da Tijuca</td>\n",
              "      <td>-23.01106</td>\n",
              "      <td>-43.36360</td>\n",
              "      <td>Entire home/apt</td>\n",
              "      <td>197</td>\n",
              "      <td>2</td>\n",
              "      <td>0</td>\n",
              "      <td>NaN</td>\n",
              "      <td>NaN</td>\n",
              "      <td>2</td>\n",
              "      <td>254</td>\n",
              "    </tr>\n",
              "    <tr>\n",
              "      <th>35857</th>\n",
              "      <td>43213898</td>\n",
              "      <td>Barra Premium CaviRio – Flat Barra da Tijuca (...</td>\n",
              "      <td>66039372</td>\n",
              "      <td>Vitor &amp; Carlos</td>\n",
              "      <td>Barra da Tijuca</td>\n",
              "      <td>-23.00144</td>\n",
              "      <td>-43.39308</td>\n",
              "      <td>Private room</td>\n",
              "      <td>106</td>\n",
              "      <td>1</td>\n",
              "      <td>0</td>\n",
              "      <td>NaN</td>\n",
              "      <td>NaN</td>\n",
              "      <td>65</td>\n",
              "      <td>341</td>\n",
              "    </tr>\n",
              "    <tr>\n",
              "      <th>35861</th>\n",
              "      <td>43215421</td>\n",
              "      <td>Promenade Barra Flat 3</td>\n",
              "      <td>328184238</td>\n",
              "      <td>Jefferson</td>\n",
              "      <td>Barra da Tijuca</td>\n",
              "      <td>-23.00486</td>\n",
              "      <td>-43.31915</td>\n",
              "      <td>Entire home/apt</td>\n",
              "      <td>374</td>\n",
              "      <td>1</td>\n",
              "      <td>0</td>\n",
              "      <td>NaN</td>\n",
              "      <td>NaN</td>\n",
              "      <td>3</td>\n",
              "      <td>364</td>\n",
              "    </tr>\n",
              "    <tr>\n",
              "      <th>35862</th>\n",
              "      <td>43215423</td>\n",
              "      <td>Promenade Flat Barra 2</td>\n",
              "      <td>328184238</td>\n",
              "      <td>Jefferson</td>\n",
              "      <td>Barra da Tijuca</td>\n",
              "      <td>-23.00645</td>\n",
              "      <td>-43.31971</td>\n",
              "      <td>Entire home/apt</td>\n",
              "      <td>390</td>\n",
              "      <td>1</td>\n",
              "      <td>0</td>\n",
              "      <td>NaN</td>\n",
              "      <td>NaN</td>\n",
              "      <td>3</td>\n",
              "      <td>361</td>\n",
              "    </tr>\n",
              "    <tr>\n",
              "      <th>35869</th>\n",
              "      <td>43227835</td>\n",
              "      <td>Quarto confortável ao lado da Jeunesse Arena</td>\n",
              "      <td>125684729</td>\n",
              "      <td>Gustavo</td>\n",
              "      <td>Barra da Tijuca</td>\n",
              "      <td>-22.97738</td>\n",
              "      <td>-43.37373</td>\n",
              "      <td>Private room</td>\n",
              "      <td>250</td>\n",
              "      <td>1</td>\n",
              "      <td>0</td>\n",
              "      <td>NaN</td>\n",
              "      <td>NaN</td>\n",
              "      <td>2</td>\n",
              "      <td>0</td>\n",
              "    </tr>\n",
              "  </tbody>\n",
              "</table>\n",
              "<p>3580 rows × 15 columns</p>\n",
              "</div>"
            ],
            "text/plain": [
              "             id  ... availability_365\n",
              "33        86978  ...              365\n",
              "46        96431  ...              327\n",
              "53       106372  ...              358\n",
              "103      192548  ...                0\n",
              "142      249616  ...              189\n",
              "...         ...  ...              ...\n",
              "35713  43198921  ...              254\n",
              "35857  43213898  ...              341\n",
              "35861  43215421  ...              364\n",
              "35862  43215423  ...              361\n",
              "35869  43227835  ...                0\n",
              "\n",
              "[3580 rows x 15 columns]"
            ]
          },
          "metadata": {
            "tags": []
          },
          "execution_count": 42
        }
      ]
    },
    {
      "cell_type": "code",
      "metadata": {
        "id": "JhM_4DCdgRpV",
        "colab_type": "code",
        "outputId": "65bec9fe-3d23-490b-aeb6-6d2f870a231f",
        "colab": {
          "base_uri": "https://localhost:8080/",
          "height": 544
        }
      },
      "source": [
        "df_clean[df_clean.neighbourhood == \"Ricardo de Albuquerque\"]"
      ],
      "execution_count": 0,
      "outputs": [
        {
          "output_type": "execute_result",
          "data": {
            "text/html": [
              "<div>\n",
              "<style scoped>\n",
              "    .dataframe tbody tr th:only-of-type {\n",
              "        vertical-align: middle;\n",
              "    }\n",
              "\n",
              "    .dataframe tbody tr th {\n",
              "        vertical-align: top;\n",
              "    }\n",
              "\n",
              "    .dataframe thead th {\n",
              "        text-align: right;\n",
              "    }\n",
              "</style>\n",
              "<table border=\"1\" class=\"dataframe\">\n",
              "  <thead>\n",
              "    <tr style=\"text-align: right;\">\n",
              "      <th></th>\n",
              "      <th>id</th>\n",
              "      <th>name</th>\n",
              "      <th>host_id</th>\n",
              "      <th>host_name</th>\n",
              "      <th>neighbourhood</th>\n",
              "      <th>latitude</th>\n",
              "      <th>longitude</th>\n",
              "      <th>room_type</th>\n",
              "      <th>price</th>\n",
              "      <th>minimum_nights</th>\n",
              "      <th>number_of_reviews</th>\n",
              "      <th>last_review</th>\n",
              "      <th>reviews_per_month</th>\n",
              "      <th>calculated_host_listings_count</th>\n",
              "      <th>availability_365</th>\n",
              "    </tr>\n",
              "  </thead>\n",
              "  <tbody>\n",
              "    <tr>\n",
              "      <th>3945</th>\n",
              "      <td>3106028</td>\n",
              "      <td>Rent home for World Cup season</td>\n",
              "      <td>14962884</td>\n",
              "      <td>Gilcéa</td>\n",
              "      <td>Ricardo de Albuquerque</td>\n",
              "      <td>-22.83446</td>\n",
              "      <td>-43.38553</td>\n",
              "      <td>Private room</td>\n",
              "      <td>1000</td>\n",
              "      <td>1</td>\n",
              "      <td>0</td>\n",
              "      <td>NaN</td>\n",
              "      <td>NaN</td>\n",
              "      <td>1</td>\n",
              "      <td>365</td>\n",
              "    </tr>\n",
              "    <tr>\n",
              "      <th>10259</th>\n",
              "      <td>12085875</td>\n",
              "      <td>Rent 2016 Olympics Deodoro</td>\n",
              "      <td>64528820</td>\n",
              "      <td>Lucimar</td>\n",
              "      <td>Ricardo de Albuquerque</td>\n",
              "      <td>-22.83996</td>\n",
              "      <td>-43.39992</td>\n",
              "      <td>Entire home/apt</td>\n",
              "      <td>1999</td>\n",
              "      <td>1</td>\n",
              "      <td>0</td>\n",
              "      <td>NaN</td>\n",
              "      <td>NaN</td>\n",
              "      <td>1</td>\n",
              "      <td>90</td>\n",
              "    </tr>\n",
              "    <tr>\n",
              "      <th>14220</th>\n",
              "      <td>13927176</td>\n",
              "      <td>Rent for the 2016 Olympics</td>\n",
              "      <td>81890830</td>\n",
              "      <td>Luiz</td>\n",
              "      <td>Ricardo de Albuquerque</td>\n",
              "      <td>-22.83942</td>\n",
              "      <td>-43.40542</td>\n",
              "      <td>Entire home/apt</td>\n",
              "      <td>1063</td>\n",
              "      <td>1</td>\n",
              "      <td>0</td>\n",
              "      <td>NaN</td>\n",
              "      <td>NaN</td>\n",
              "      <td>1</td>\n",
              "      <td>89</td>\n",
              "    </tr>\n",
              "    <tr>\n",
              "      <th>15898</th>\n",
              "      <td>14251471</td>\n",
              "      <td>House for Olympics near Complex Deodoro</td>\n",
              "      <td>86752448</td>\n",
              "      <td>Rafael</td>\n",
              "      <td>Ricardo de Albuquerque</td>\n",
              "      <td>-22.83933</td>\n",
              "      <td>-43.39691</td>\n",
              "      <td>Entire home/apt</td>\n",
              "      <td>523</td>\n",
              "      <td>6</td>\n",
              "      <td>0</td>\n",
              "      <td>NaN</td>\n",
              "      <td>NaN</td>\n",
              "      <td>1</td>\n",
              "      <td>0</td>\n",
              "    </tr>\n",
              "    <tr>\n",
              "      <th>16244</th>\n",
              "      <td>14382360</td>\n",
              "      <td>PARQUE OLIMPICO DE DEODORO- FAMILIAR</td>\n",
              "      <td>88303678</td>\n",
              "      <td>Olimpia Catarina De</td>\n",
              "      <td>Ricardo de Albuquerque</td>\n",
              "      <td>-22.84187</td>\n",
              "      <td>-43.40335</td>\n",
              "      <td>Private room</td>\n",
              "      <td>298</td>\n",
              "      <td>1</td>\n",
              "      <td>0</td>\n",
              "      <td>NaN</td>\n",
              "      <td>NaN</td>\n",
              "      <td>1</td>\n",
              "      <td>365</td>\n",
              "    </tr>\n",
              "    <tr>\n",
              "      <th>34639</th>\n",
              "      <td>42329773</td>\n",
              "      <td>Quitinete independente para casal ou +</td>\n",
              "      <td>330224882</td>\n",
              "      <td>Josue</td>\n",
              "      <td>Ricardo de Albuquerque</td>\n",
              "      <td>-22.83918</td>\n",
              "      <td>-43.39641</td>\n",
              "      <td>Entire home/apt</td>\n",
              "      <td>122</td>\n",
              "      <td>3</td>\n",
              "      <td>0</td>\n",
              "      <td>NaN</td>\n",
              "      <td>NaN</td>\n",
              "      <td>4</td>\n",
              "      <td>180</td>\n",
              "    </tr>\n",
              "  </tbody>\n",
              "</table>\n",
              "</div>"
            ],
            "text/plain": [
              "             id  ... availability_365\n",
              "3945    3106028  ...              365\n",
              "10259  12085875  ...               90\n",
              "14220  13927176  ...               89\n",
              "15898  14251471  ...                0\n",
              "16244  14382360  ...              365\n",
              "34639  42329773  ...              180\n",
              "\n",
              "[6 rows x 15 columns]"
            ]
          },
          "metadata": {
            "tags": []
          },
          "execution_count": 43
        }
      ]
    },
    {
      "cell_type": "code",
      "metadata": {
        "id": "KeJj-MJ3gd4u",
        "colab_type": "code",
        "outputId": "c3b47a2c-7e3c-4e86-dae7-60c6aeac9ea9",
        "colab": {
          "base_uri": "https://localhost:8080/",
          "height": 165
        }
      },
      "source": [
        "df_clean[df_clean.neighbourhood == \"Engenheiro Leal\"]"
      ],
      "execution_count": 0,
      "outputs": [
        {
          "output_type": "execute_result",
          "data": {
            "text/html": [
              "<div>\n",
              "<style scoped>\n",
              "    .dataframe tbody tr th:only-of-type {\n",
              "        vertical-align: middle;\n",
              "    }\n",
              "\n",
              "    .dataframe tbody tr th {\n",
              "        vertical-align: top;\n",
              "    }\n",
              "\n",
              "    .dataframe thead th {\n",
              "        text-align: right;\n",
              "    }\n",
              "</style>\n",
              "<table border=\"1\" class=\"dataframe\">\n",
              "  <thead>\n",
              "    <tr style=\"text-align: right;\">\n",
              "      <th></th>\n",
              "      <th>id</th>\n",
              "      <th>name</th>\n",
              "      <th>host_id</th>\n",
              "      <th>host_name</th>\n",
              "      <th>neighbourhood</th>\n",
              "      <th>latitude</th>\n",
              "      <th>longitude</th>\n",
              "      <th>room_type</th>\n",
              "      <th>price</th>\n",
              "      <th>minimum_nights</th>\n",
              "      <th>number_of_reviews</th>\n",
              "      <th>last_review</th>\n",
              "      <th>reviews_per_month</th>\n",
              "      <th>calculated_host_listings_count</th>\n",
              "      <th>availability_365</th>\n",
              "    </tr>\n",
              "  </thead>\n",
              "  <tbody>\n",
              "    <tr>\n",
              "      <th>22589</th>\n",
              "      <td>26996243</td>\n",
              "      <td>Engenheiro Leal Casa</td>\n",
              "      <td>159787826</td>\n",
              "      <td>Antonio</td>\n",
              "      <td>Engenheiro Leal</td>\n",
              "      <td>-22.87497</td>\n",
              "      <td>-43.32121</td>\n",
              "      <td>Entire home/apt</td>\n",
              "      <td>1499</td>\n",
              "      <td>15</td>\n",
              "      <td>0</td>\n",
              "      <td>NaN</td>\n",
              "      <td>NaN</td>\n",
              "      <td>2</td>\n",
              "      <td>365</td>\n",
              "    </tr>\n",
              "    <tr>\n",
              "      <th>34840</th>\n",
              "      <td>42403931</td>\n",
              "      <td>Quarto em Cascadura</td>\n",
              "      <td>336310280</td>\n",
              "      <td>Rodrigo</td>\n",
              "      <td>Engenheiro Leal</td>\n",
              "      <td>-22.87728</td>\n",
              "      <td>-43.32327</td>\n",
              "      <td>Private room</td>\n",
              "      <td>101</td>\n",
              "      <td>1</td>\n",
              "      <td>0</td>\n",
              "      <td>NaN</td>\n",
              "      <td>NaN</td>\n",
              "      <td>1</td>\n",
              "      <td>90</td>\n",
              "    </tr>\n",
              "  </tbody>\n",
              "</table>\n",
              "</div>"
            ],
            "text/plain": [
              "             id  ... availability_365\n",
              "22589  26996243  ...              365\n",
              "34840  42403931  ...               90\n",
              "\n",
              "[2 rows x 15 columns]"
            ]
          },
          "metadata": {
            "tags": []
          },
          "execution_count": 44
        }
      ]
    },
    {
      "cell_type": "code",
      "metadata": {
        "id": "yvnOGNrsgtJW",
        "colab_type": "code",
        "outputId": "6a2dea9c-45d9-4b17-81e8-bd9626c98d96",
        "colab": {
          "base_uri": "https://localhost:8080/",
          "height": 374
        }
      },
      "source": [
        "df_clean[\"neighbourhood\"].value_counts()[:20]"
      ],
      "execution_count": 0,
      "outputs": [
        {
          "output_type": "execute_result",
          "data": {
            "text/plain": [
              "Copacabana                  9101\n",
              "Barra da Tijuca             3580\n",
              "Ipanema                     2889\n",
              "Jacarepaguá                 1957\n",
              "Botafogo                    1727\n",
              "Recreio dos Bandeirantes    1591\n",
              "Leblon                      1512\n",
              "Santa Teresa                1120\n",
              "Centro                       975\n",
              "Flamengo                     868\n",
              "Tijuca                       699\n",
              "Laranjeiras                  696\n",
              "Leme                         608\n",
              "Lagoa                        354\n",
              "Glória                       344\n",
              "Catete                       332\n",
              "Camorim                      297\n",
              "Humaitá                      295\n",
              "Jardim Botânico              287\n",
              "Maracanã                     282\n",
              "Name: neighbourhood, dtype: int64"
            ]
          },
          "metadata": {
            "tags": []
          },
          "execution_count": 63
        }
      ]
    },
    {
      "cell_type": "code",
      "metadata": {
        "id": "NgXrnmh2hO-V",
        "colab_type": "code",
        "outputId": "175afa53-1c61-4723-e43a-f23f276dc092",
        "colab": {
          "base_uri": "https://localhost:8080/",
          "height": 374
        }
      },
      "source": [
        "(df_clean[\"neighbourhood\"].value_counts() / df_clean.shape[0]).sort_values(ascending=False)[:20]"
      ],
      "execution_count": 0,
      "outputs": [
        {
          "output_type": "execute_result",
          "data": {
            "text/plain": [
              "Copacabana                  0.267590\n",
              "Barra da Tijuca             0.105260\n",
              "Ipanema                     0.084943\n",
              "Jacarepaguá                 0.057540\n",
              "Botafogo                    0.050778\n",
              "Recreio dos Bandeirantes    0.046779\n",
              "Leblon                      0.044456\n",
              "Santa Teresa                0.032931\n",
              "Centro                      0.028667\n",
              "Flamengo                    0.025521\n",
              "Tijuca                      0.020552\n",
              "Laranjeiras                 0.020464\n",
              "Leme                        0.017877\n",
              "Lagoa                       0.010408\n",
              "Glória                      0.010114\n",
              "Catete                      0.009762\n",
              "Camorim                     0.008732\n",
              "Humaitá                     0.008674\n",
              "Jardim Botânico             0.008438\n",
              "Maracanã                    0.008291\n",
              "Name: neighbourhood, dtype: float64"
            ]
          },
          "metadata": {
            "tags": []
          },
          "execution_count": 50
        }
      ]
    },
    {
      "cell_type": "markdown",
      "metadata": {
        "id": "aAifTl-YwJBi",
        "colab_type": "text"
      },
      "source": [
        "Vamos ver o visual dos imoveis disponiveis AirBnB no Rio de Janeiro"
      ]
    },
    {
      "cell_type": "code",
      "metadata": {
        "id": "XIKcl_AiwR_m",
        "colab_type": "code",
        "outputId": "87e1a22c-19ec-4ec8-c111-769d582b0591",
        "colab": {
          "base_uri": "https://localhost:8080/",
          "height": 489
        }
      },
      "source": [
        "df_clean.plot(kind=\"scatter\", x='longitude', y='latitude', alpha=0.4, c=df_clean['price'], s=8,\n",
        "              cmap=plt.get_cmap('jet'), figsize=(12,8))"
      ],
      "execution_count": 0,
      "outputs": [
        {
          "output_type": "execute_result",
          "data": {
            "text/plain": [
              "<matplotlib.axes._subplots.AxesSubplot at 0x7fb87d380f60>"
            ]
          },
          "metadata": {
            "tags": []
          },
          "execution_count": 57
        },
        {
          "output_type": "display_data",
          "data": {
            "image/png": "[encoded data removed]",
            "text/plain": [
              "<Figure size 864x576 with 2 Axes>"
            ]
          },
          "metadata": {
            "tags": [],
            "needs_background": "light"
          }
        }
      ]
    },
    {
      "cell_type": "markdown",
      "metadata": {
        "id": "pokmgU1xiPdX",
        "colab_type": "text"
      },
      "source": [
        "#Conclusões"
      ]
    },
    {
      "cell_type": "markdown",
      "metadata": {
        "id": "ujxK-BqtiWlt",
        "colab_type": "text"
      },
      "source": [
        "Identificamos que os bairros de Vaz Lobo , Ricardo de Albuquerque e Engenheiro Leal são as localidades mais caras, em média.\n",
        "\n",
        "Porem a quantidade de imoveis disponiveis nessas localidades são muito pequenas, não chegando nem proximo de 1%.\n",
        "\n",
        "Por serem poucas unidades , se existir algum preço distorcido muito para cima, a média nas localidades fica equivocada.\n",
        "\n",
        "Só para os termos de comparação :\n",
        "\n",
        "Localidade com maior numero de imoveis disponiveis - Copacabana-9.101 imoveis\n",
        "20 lugar o bairro do Maracanã tem 282 imoveis disponiveis\n",
        "\n",
        "Copacabana - 9.101 / 282 = 32 vezes aproximadamente\n",
        "\n",
        "Numero de imoveis disponíveis em:\n",
        "\n",
        "Vaz Lobo - 03\n",
        "\n",
        "Ricardo de Albuquerque - 06\n",
        "\n",
        "Engenheiro Leal - 02\n",
        "\n",
        "\n",
        "Os bairros com média mais alta de aluguel não necessariamente são os bairros melhores para se hospedar."
      ]
    }
  ]
}