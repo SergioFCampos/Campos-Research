{
  "nbformat": 4,
  "nbformat_minor": 0,
  "metadata": {
    "colab": {
      "name": "Toquio - Analisando os Dados do Airbnb.ipynb",
      "provenance": [],
      "collapsed_sections": [],
      "include_colab_link": true
    },
    "kernelspec": {
      "name": "python3",
      "display_name": "Python 3"
    }
  },
  "cells": [
    {
      "cell_type": "markdown",
      "metadata": {
        "id": "view-in-github",
        "colab_type": "text"
      },
      "source": [
        "<a href=\"https://colab.research.google.com/github/SergioFCampos/Campos-Research/blob/master/Toquio_Analisando_os_Dados_do_Airbnb.ipynb\" target=\"_parent\"><img src=\"https://colab.research.google.com/assets/colab-badge.svg\" alt=\"Open In Colab\"/></a>"
      ]
    },
    {
      "cell_type": "markdown",
      "metadata": {
        "id": "kLI0gJtzDGuQ",
        "colab_type": "text"
      },
      "source": [
        "\n",
        "\n",
        "---\n",
        "\n",
        "# Análise  Airbnb - **Toquio**\n",
        "\n",
        "\n",
        "\n",
        "\n",
        "A AirBnB é uma empresa gigante que oferece hospedagem para milhões de pessoas ao redor do mundo. O detalhe é que , como todos sabem, a empresa não possui nenhum hotel ,nem pousadas .\n",
        "\n",
        "\"A missão da AirBnB fundamenta-se na ideia de que as pessoas são essencialmente boas e que uma comunidade é um lugar onde você possa se sentir em casa.\" Parte da missão por Brian Chesky -CEO e cofundador do Airbnb\n",
        "\n",
        "**População de Toquio**\n",
        "\n",
        "**9.273 Milhões**\n",
        "\n",
        "1 Real = 27,21 Yens (moeda japonesa)\n",
        "\n",
        "\n",
        "\n"
      ]
    },
    {
      "cell_type": "markdown",
      "metadata": {
        "id": "0zxQHhIUDF_2",
        "colab_type": "text"
      },
      "source": [
        "## Obtenção dos Dados\n",
        "\n",
        "Os dados usados aqui são reais e foram obtidos a partir do site Inside Airbnb.\n",
        "\n",
        "O arquivo utilizado foi um resumo de dados considerando o Tóquio.\n",
        "\n",
        "\n"
      ]
    },
    {
      "cell_type": "code",
      "metadata": {
        "id": "Vhp2wMPgJ6zX",
        "colab_type": "code",
        "colab": {}
      },
      "source": [
        "# importar os pacotes necessarios\n",
        "import pandas as pd\n",
        "import matplotlib.pyplot as plt\n",
        "import seaborn as sns\n"
      ],
      "execution_count": 0,
      "outputs": []
    },
    {
      "cell_type": "markdown",
      "metadata": {
        "id": "M4OXQjCf7l_p",
        "colab_type": "text"
      },
      "source": [
        ""
      ]
    },
    {
      "cell_type": "markdown",
      "metadata": {
        "id": "RYgvuebKNg8-",
        "colab_type": "text"
      },
      "source": [
        "**Dicionário das variáveis**\n",
        "\n",
        "* id - número de id gerado para identificar o imóvel\n",
        "*   name - nome da propriedade anunciada\n",
        "*   host_id - número de id do proprietário (anfitrião) da propriedade\n",
        "*   host_name - Nome do anfitrião\n",
        "*   neighbourhood_group - esta coluna não contém nenhum valor válido\n",
        "*   neighbourhood - nome do bairro\n",
        "*   latitude - coordenada da latitude da propriedade\n",
        "*  longitude - coordenada da longitude da propriedade \n",
        "*   room_type - informa o tipo de quarto que é oferecido\n",
        "*   price - preço para alugar o imóvel\n",
        "*   minimum_nights - quantidade mínima de noites para reservar\n",
        "*   number_of_reviews - número de reviews que a propriedade possui\n",
        "*   last_review - data do último review\n",
        "*   reviews_per_month - quantidade de reviews por mês\n",
        "*   calculated_host_listings_count - quantidade de imóveis do mesmo anfitrião\n",
        "*   availability_365 - número de dias de disponibilidade dentro de 365 dias\n",
        "\n",
        "\n",
        "\n",
        "\n",
        "\n",
        "\n",
        "\n",
        "\n",
        "\n",
        "\n",
        "\n",
        "\n",
        "\n",
        "\n",
        "\n",
        "\n",
        "\n",
        "Antes de iniciar qualquer análise, vamos verificar a cara do nosso *dataset*, analisando as 5 primeiras entradas."
      ]
    },
    {
      "cell_type": "code",
      "metadata": {
        "id": "cHB8ulfq7lqj",
        "colab_type": "code",
        "colab": {}
      },
      "source": [
        ""
      ],
      "execution_count": 0,
      "outputs": []
    },
    {
      "cell_type": "code",
      "metadata": {
        "id": "tUmoAT8DLQ5T",
        "colab_type": "code",
        "colab": {}
      },
      "source": [
        "# importar o arquivo listings.csv para um DataFrame\n",
        "df = pd.read_csv(\"http://data.insideairbnb.com/japan/kant%C5%8D/tokyo/2020-04-28/visualisations/listings.csv\")\n"
      ],
      "execution_count": 0,
      "outputs": []
    },
    {
      "cell_type": "markdown",
      "metadata": {
        "id": "qb5By2nIMS6m",
        "colab_type": "text"
      },
      "source": [
        "## Análise dos Dados\n"
      ]
    },
    {
      "cell_type": "code",
      "metadata": {
        "id": "2iS_dae7YQtO",
        "colab_type": "code",
        "colab": {
          "base_uri": "https://localhost:8080/",
          "height": 462
        },
        "outputId": "b9d7cb2b-87e6-43e2-f311-6a2f59b654a9"
      },
      "source": [
        "# mostrar as 5 primeiras entradas\n",
        "df.head()\n"
      ],
      "execution_count": 6,
      "outputs": [
        {
          "output_type": "execute_result",
          "data": {
            "text/html": [
              "<div>\n",
              "<style scoped>\n",
              "    .dataframe tbody tr th:only-of-type {\n",
              "        vertical-align: middle;\n",
              "    }\n",
              "\n",
              "    .dataframe tbody tr th {\n",
              "        vertical-align: top;\n",
              "    }\n",
              "\n",
              "    .dataframe thead th {\n",
              "        text-align: right;\n",
              "    }\n",
              "</style>\n",
              "<table border=\"1\" class=\"dataframe\">\n",
              "  <thead>\n",
              "    <tr style=\"text-align: right;\">\n",
              "      <th></th>\n",
              "      <th>id</th>\n",
              "      <th>name</th>\n",
              "      <th>host_id</th>\n",
              "      <th>host_name</th>\n",
              "      <th>neighbourhood_group</th>\n",
              "      <th>neighbourhood</th>\n",
              "      <th>latitude</th>\n",
              "      <th>longitude</th>\n",
              "      <th>room_type</th>\n",
              "      <th>price</th>\n",
              "      <th>minimum_nights</th>\n",
              "      <th>number_of_reviews</th>\n",
              "      <th>last_review</th>\n",
              "      <th>reviews_per_month</th>\n",
              "      <th>calculated_host_listings_count</th>\n",
              "      <th>availability_365</th>\n",
              "    </tr>\n",
              "  </thead>\n",
              "  <tbody>\n",
              "    <tr>\n",
              "      <th>0</th>\n",
              "      <td>35303</td>\n",
              "      <td>La Casa Gaienmae C Harajuku, Omotesando is nearby</td>\n",
              "      <td>151977</td>\n",
              "      <td>Miyuki</td>\n",
              "      <td>NaN</td>\n",
              "      <td>Shibuya Ku</td>\n",
              "      <td>35.67152</td>\n",
              "      <td>139.71203</td>\n",
              "      <td>Private room</td>\n",
              "      <td>4183</td>\n",
              "      <td>28</td>\n",
              "      <td>18</td>\n",
              "      <td>2018-07-28</td>\n",
              "      <td>0.18</td>\n",
              "      <td>3</td>\n",
              "      <td>89</td>\n",
              "    </tr>\n",
              "    <tr>\n",
              "      <th>1</th>\n",
              "      <td>197677</td>\n",
              "      <td>Oshiage Holiday Apartment</td>\n",
              "      <td>964081</td>\n",
              "      <td>Yoshimi &amp; Marek</td>\n",
              "      <td>NaN</td>\n",
              "      <td>Sumida Ku</td>\n",
              "      <td>35.71721</td>\n",
              "      <td>139.82596</td>\n",
              "      <td>Entire home/apt</td>\n",
              "      <td>11048</td>\n",
              "      <td>3</td>\n",
              "      <td>165</td>\n",
              "      <td>2020-03-04</td>\n",
              "      <td>1.57</td>\n",
              "      <td>1</td>\n",
              "      <td>271</td>\n",
              "    </tr>\n",
              "    <tr>\n",
              "      <th>2</th>\n",
              "      <td>289597</td>\n",
              "      <td>Private apt in central Tokyo #203</td>\n",
              "      <td>341577</td>\n",
              "      <td>Hide&amp;Kei</td>\n",
              "      <td>NaN</td>\n",
              "      <td>Nerima Ku</td>\n",
              "      <td>35.74267</td>\n",
              "      <td>139.65810</td>\n",
              "      <td>Entire home/apt</td>\n",
              "      <td>4171</td>\n",
              "      <td>28</td>\n",
              "      <td>113</td>\n",
              "      <td>2020-02-17</td>\n",
              "      <td>1.18</td>\n",
              "      <td>2</td>\n",
              "      <td>241</td>\n",
              "    </tr>\n",
              "    <tr>\n",
              "      <th>3</th>\n",
              "      <td>370759</td>\n",
              "      <td>Cozy flat #203, local area YET 10 mins to shib...</td>\n",
              "      <td>1573631</td>\n",
              "      <td>Gilles,Mayumi,Taiki</td>\n",
              "      <td>NaN</td>\n",
              "      <td>Setagaya Ku</td>\n",
              "      <td>35.66443</td>\n",
              "      <td>139.65707</td>\n",
              "      <td>Entire home/apt</td>\n",
              "      <td>6952</td>\n",
              "      <td>28</td>\n",
              "      <td>103</td>\n",
              "      <td>2020-04-16</td>\n",
              "      <td>1.39</td>\n",
              "      <td>3</td>\n",
              "      <td>364</td>\n",
              "    </tr>\n",
              "    <tr>\n",
              "      <th>4</th>\n",
              "      <td>700253</td>\n",
              "      <td>Private apt in central Tokyo #201</td>\n",
              "      <td>341577</td>\n",
              "      <td>Hide&amp;Kei</td>\n",
              "      <td>NaN</td>\n",
              "      <td>Nerima Ku</td>\n",
              "      <td>35.74264</td>\n",
              "      <td>139.65832</td>\n",
              "      <td>Entire home/apt</td>\n",
              "      <td>3957</td>\n",
              "      <td>28</td>\n",
              "      <td>103</td>\n",
              "      <td>2019-10-04</td>\n",
              "      <td>1.12</td>\n",
              "      <td>2</td>\n",
              "      <td>340</td>\n",
              "    </tr>\n",
              "  </tbody>\n",
              "</table>\n",
              "</div>"
            ],
            "text/plain": [
              "       id  ... availability_365\n",
              "0   35303  ...               89\n",
              "1  197677  ...              271\n",
              "2  289597  ...              241\n",
              "3  370759  ...              364\n",
              "4  700253  ...              340\n",
              "\n",
              "[5 rows x 16 columns]"
            ]
          },
          "metadata": {
            "tags": []
          },
          "execution_count": 6
        }
      ]
    },
    {
      "cell_type": "markdown",
      "metadata": {
        "id": "6-B_qtEaYEd-",
        "colab_type": "text"
      },
      "source": [
        "### **Q1. Quantos atributos (variáveis) e quantas entradas o nosso conjunto de dados possui? Quais os tipos das variáveis?**"
      ]
    },
    {
      "cell_type": "code",
      "metadata": {
        "id": "TFRK0tniLV-G",
        "colab_type": "code",
        "colab": {
          "base_uri": "https://localhost:8080/",
          "height": 68
        },
        "outputId": "abbfcaeb-508b-4e72-f551-69f76e38cac0"
      },
      "source": [
        "# identificar o volume de dados do DataFrame\n",
        "print(\"Entradas:\\t {}\".format(df.shape[0]))\n",
        "\n",
        "# verificar as variáveis de entradas do dataset\n",
        "print(\"Varáveis:\\t {} \\n\".format(df.shape[1]))\n"
      ],
      "execution_count": 9,
      "outputs": [
        {
          "output_type": "stream",
          "text": [
            "Entradas:\t 15352\n",
            "Varáveis:\t 16 \n",
            "\n"
          ],
          "name": "stdout"
        }
      ]
    },
    {
      "cell_type": "code",
      "metadata": {
        "id": "WNlOokqRB0I4",
        "colab_type": "code",
        "colab": {
          "base_uri": "https://localhost:8080/",
          "height": 306
        },
        "outputId": "78b3d38c-0f9b-42c9-b929-8e566f6ed688"
      },
      "source": [
        "display(df.dtypes)"
      ],
      "execution_count": 10,
      "outputs": [
        {
          "output_type": "display_data",
          "data": {
            "text/plain": [
              "id                                  int64\n",
              "name                               object\n",
              "host_id                             int64\n",
              "host_name                          object\n",
              "neighbourhood_group               float64\n",
              "neighbourhood                      object\n",
              "latitude                          float64\n",
              "longitude                         float64\n",
              "room_type                          object\n",
              "price                               int64\n",
              "minimum_nights                      int64\n",
              "number_of_reviews                   int64\n",
              "last_review                        object\n",
              "reviews_per_month                 float64\n",
              "calculated_host_listings_count      int64\n",
              "availability_365                    int64\n",
              "dtype: object"
            ]
          },
          "metadata": {
            "tags": []
          }
        }
      ]
    },
    {
      "cell_type": "markdown",
      "metadata": {
        "id": "yz1urSUGW9iE",
        "colab_type": "text"
      },
      "source": [
        "### **Q2. Qual a porcentagem de valores ausentes no *dataset*?**"
      ]
    },
    {
      "cell_type": "code",
      "metadata": {
        "id": "plk2FjbCXOqP",
        "colab_type": "code",
        "colab": {
          "base_uri": "https://localhost:8080/",
          "height": 306
        },
        "outputId": "e87bc0a6-2d5e-4685-be94-54b2862d81a0"
      },
      "source": [
        "# ordenar em ordem decrescente as variáveis por seus valores ausentes\n",
        "df.isnull().sum()\n"
      ],
      "execution_count": 11,
      "outputs": [
        {
          "output_type": "execute_result",
          "data": {
            "text/plain": [
              "id                                    0\n",
              "name                                  0\n",
              "host_id                               0\n",
              "host_name                            11\n",
              "neighbourhood_group               15352\n",
              "neighbourhood                         0\n",
              "latitude                              0\n",
              "longitude                             0\n",
              "room_type                             0\n",
              "price                                 0\n",
              "minimum_nights                        0\n",
              "number_of_reviews                     0\n",
              "last_review                        2610\n",
              "reviews_per_month                  2610\n",
              "calculated_host_listings_count        0\n",
              "availability_365                      0\n",
              "dtype: int64"
            ]
          },
          "metadata": {
            "tags": []
          },
          "execution_count": 11
        }
      ]
    },
    {
      "cell_type": "code",
      "metadata": {
        "id": "WfS39yLzClrj",
        "colab_type": "code",
        "colab": {
          "base_uri": "https://localhost:8080/",
          "height": 306
        },
        "outputId": "6f8ed930-07ae-4d21-8ba7-ea33328de730"
      },
      "source": [
        "(df.isnull().sum() / df.shape[0]).sort_values(ascending = False)"
      ],
      "execution_count": 13,
      "outputs": [
        {
          "output_type": "execute_result",
          "data": {
            "text/plain": [
              "neighbourhood_group               1.000000\n",
              "reviews_per_month                 0.170010\n",
              "last_review                       0.170010\n",
              "host_name                         0.000717\n",
              "availability_365                  0.000000\n",
              "calculated_host_listings_count    0.000000\n",
              "number_of_reviews                 0.000000\n",
              "minimum_nights                    0.000000\n",
              "price                             0.000000\n",
              "room_type                         0.000000\n",
              "longitude                         0.000000\n",
              "latitude                          0.000000\n",
              "neighbourhood                     0.000000\n",
              "host_id                           0.000000\n",
              "name                              0.000000\n",
              "id                                0.000000\n",
              "dtype: float64"
            ]
          },
          "metadata": {
            "tags": []
          },
          "execution_count": 13
        }
      ]
    },
    {
      "cell_type": "markdown",
      "metadata": {
        "id": "iHXvvHIxaoNc",
        "colab_type": "text"
      },
      "source": [
        "### **Q3. Qual o tipo de distribuição das variáveis?** "
      ]
    },
    {
      "cell_type": "code",
      "metadata": {
        "id": "q2wWSfeRbmBo",
        "colab_type": "code",
        "colab": {
          "base_uri": "https://localhost:8080/",
          "height": 892
        },
        "outputId": "9c9b1b76-d6c4-4074-9ef9-014ab245d5cf"
      },
      "source": [
        "# plotar o histograma das variáveis numéricas\n",
        "\n",
        "df.hist(bins=16 , figsize=(20,15));\n"
      ],
      "execution_count": 15,
      "outputs": [
        {
          "output_type": "display_data",
          "data": {
            "image/png": "[encoded data removed]",
            "text/plain": [
              "<Figure size 1440x1080 with 12 Axes>"
            ]
          },
          "metadata": {
            "tags": [],
            "needs_background": "light"
          }
        }
      ]
    },
    {
      "cell_type": "markdown",
      "metadata": {
        "id": "7x4aw1j5wNmn",
        "colab_type": "text"
      },
      "source": [
        "### **Q4. Qual a média dos preços de aluguel?**"
      ]
    },
    {
      "cell_type": "code",
      "metadata": {
        "id": "ff-8gUahLk-C",
        "colab_type": "code",
        "colab": {
          "base_uri": "https://localhost:8080/",
          "height": 317
        },
        "outputId": "31c65249-649f-4bc2-de44-a0317c92b030"
      },
      "source": [
        "# ver a média da coluna `price``\n",
        "df.describe()\n"
      ],
      "execution_count": 17,
      "outputs": [
        {
          "output_type": "execute_result",
          "data": {
            "text/html": [
              "<div>\n",
              "<style scoped>\n",
              "    .dataframe tbody tr th:only-of-type {\n",
              "        vertical-align: middle;\n",
              "    }\n",
              "\n",
              "    .dataframe tbody tr th {\n",
              "        vertical-align: top;\n",
              "    }\n",
              "\n",
              "    .dataframe thead th {\n",
              "        text-align: right;\n",
              "    }\n",
              "</style>\n",
              "<table border=\"1\" class=\"dataframe\">\n",
              "  <thead>\n",
              "    <tr style=\"text-align: right;\">\n",
              "      <th></th>\n",
              "      <th>id</th>\n",
              "      <th>host_id</th>\n",
              "      <th>neighbourhood_group</th>\n",
              "      <th>latitude</th>\n",
              "      <th>longitude</th>\n",
              "      <th>price</th>\n",
              "      <th>minimum_nights</th>\n",
              "      <th>number_of_reviews</th>\n",
              "      <th>reviews_per_month</th>\n",
              "      <th>calculated_host_listings_count</th>\n",
              "      <th>availability_365</th>\n",
              "    </tr>\n",
              "  </thead>\n",
              "  <tbody>\n",
              "    <tr>\n",
              "      <th>count</th>\n",
              "      <td>1.535200e+04</td>\n",
              "      <td>1.535200e+04</td>\n",
              "      <td>0.0</td>\n",
              "      <td>15352.000000</td>\n",
              "      <td>15352.000000</td>\n",
              "      <td>1.535200e+04</td>\n",
              "      <td>15352.000000</td>\n",
              "      <td>15352.000000</td>\n",
              "      <td>12742.000000</td>\n",
              "      <td>15352.000000</td>\n",
              "      <td>15352.000000</td>\n",
              "    </tr>\n",
              "    <tr>\n",
              "      <th>mean</th>\n",
              "      <td>3.167375e+07</td>\n",
              "      <td>1.704850e+08</td>\n",
              "      <td>NaN</td>\n",
              "      <td>35.694985</td>\n",
              "      <td>139.735174</td>\n",
              "      <td>2.624158e+04</td>\n",
              "      <td>3.293968</td>\n",
              "      <td>26.542731</td>\n",
              "      <td>1.695281</td>\n",
              "      <td>13.434732</td>\n",
              "      <td>155.732348</td>\n",
              "    </tr>\n",
              "    <tr>\n",
              "      <th>std</th>\n",
              "      <td>9.319600e+06</td>\n",
              "      <td>9.954602e+07</td>\n",
              "      <td>NaN</td>\n",
              "      <td>0.142427</td>\n",
              "      <td>0.081392</td>\n",
              "      <td>7.636344e+04</td>\n",
              "      <td>9.114849</td>\n",
              "      <td>40.566386</td>\n",
              "      <td>1.365650</td>\n",
              "      <td>15.399161</td>\n",
              "      <td>115.567651</td>\n",
              "    </tr>\n",
              "    <tr>\n",
              "      <th>min</th>\n",
              "      <td>3.530300e+04</td>\n",
              "      <td>1.519770e+05</td>\n",
              "      <td>NaN</td>\n",
              "      <td>27.072330</td>\n",
              "      <td>139.123190</td>\n",
              "      <td>0.000000e+00</td>\n",
              "      <td>1.000000</td>\n",
              "      <td>0.000000</td>\n",
              "      <td>0.020000</td>\n",
              "      <td>1.000000</td>\n",
              "      <td>0.000000</td>\n",
              "    </tr>\n",
              "    <tr>\n",
              "      <th>25%</th>\n",
              "      <td>2.658525e+07</td>\n",
              "      <td>7.075525e+07</td>\n",
              "      <td>NaN</td>\n",
              "      <td>35.686230</td>\n",
              "      <td>139.699457</td>\n",
              "      <td>6.952000e+03</td>\n",
              "      <td>1.000000</td>\n",
              "      <td>2.000000</td>\n",
              "      <td>0.690000</td>\n",
              "      <td>3.000000</td>\n",
              "      <td>63.000000</td>\n",
              "    </tr>\n",
              "    <tr>\n",
              "      <th>50%</th>\n",
              "      <td>3.343554e+07</td>\n",
              "      <td>1.865996e+08</td>\n",
              "      <td>NaN</td>\n",
              "      <td>35.703020</td>\n",
              "      <td>139.728075</td>\n",
              "      <td>1.197900e+04</td>\n",
              "      <td>1.000000</td>\n",
              "      <td>11.000000</td>\n",
              "      <td>1.500000</td>\n",
              "      <td>8.000000</td>\n",
              "      <td>150.000000</td>\n",
              "    </tr>\n",
              "    <tr>\n",
              "      <th>75%</th>\n",
              "      <td>3.947100e+07</td>\n",
              "      <td>2.528881e+08</td>\n",
              "      <td>NaN</td>\n",
              "      <td>35.725082</td>\n",
              "      <td>139.785050</td>\n",
              "      <td>2.000100e+04</td>\n",
              "      <td>2.000000</td>\n",
              "      <td>34.000000</td>\n",
              "      <td>2.400000</td>\n",
              "      <td>18.000000</td>\n",
              "      <td>247.000000</td>\n",
              "    </tr>\n",
              "    <tr>\n",
              "      <th>max</th>\n",
              "      <td>4.328692e+07</td>\n",
              "      <td>3.442701e+08</td>\n",
              "      <td>NaN</td>\n",
              "      <td>35.832430</td>\n",
              "      <td>142.202880</td>\n",
              "      <td>1.000053e+06</td>\n",
              "      <td>365.000000</td>\n",
              "      <td>529.000000</td>\n",
              "      <td>43.600000</td>\n",
              "      <td>98.000000</td>\n",
              "      <td>365.000000</td>\n",
              "    </tr>\n",
              "  </tbody>\n",
              "</table>\n",
              "</div>"
            ],
            "text/plain": [
              "                 id  ...  availability_365\n",
              "count  1.535200e+04  ...      15352.000000\n",
              "mean   3.167375e+07  ...        155.732348\n",
              "std    9.319600e+06  ...        115.567651\n",
              "min    3.530300e+04  ...          0.000000\n",
              "25%    2.658525e+07  ...         63.000000\n",
              "50%    3.343554e+07  ...        150.000000\n",
              "75%    3.947100e+07  ...        247.000000\n",
              "max    4.328692e+07  ...        365.000000\n",
              "\n",
              "[8 rows x 11 columns]"
            ]
          },
          "metadata": {
            "tags": []
          },
          "execution_count": 17
        }
      ]
    },
    {
      "cell_type": "code",
      "metadata": {
        "id": "88lMxJHqMDWk",
        "colab_type": "code",
        "colab": {
          "base_uri": "https://localhost:8080/",
          "height": 297
        },
        "outputId": "c8c4e5db-a3be-45f5-d367-2fa45eece206"
      },
      "source": [
        "df[[\"availability_365\",\"calculated_host_listings_count\",\"minimum_nights\",\"price\"]].describe()"
      ],
      "execution_count": 21,
      "outputs": [
        {
          "output_type": "execute_result",
          "data": {
            "text/html": [
              "<div>\n",
              "<style scoped>\n",
              "    .dataframe tbody tr th:only-of-type {\n",
              "        vertical-align: middle;\n",
              "    }\n",
              "\n",
              "    .dataframe tbody tr th {\n",
              "        vertical-align: top;\n",
              "    }\n",
              "\n",
              "    .dataframe thead th {\n",
              "        text-align: right;\n",
              "    }\n",
              "</style>\n",
              "<table border=\"1\" class=\"dataframe\">\n",
              "  <thead>\n",
              "    <tr style=\"text-align: right;\">\n",
              "      <th></th>\n",
              "      <th>availability_365</th>\n",
              "      <th>calculated_host_listings_count</th>\n",
              "      <th>minimum_nights</th>\n",
              "      <th>price</th>\n",
              "    </tr>\n",
              "  </thead>\n",
              "  <tbody>\n",
              "    <tr>\n",
              "      <th>count</th>\n",
              "      <td>15352.000000</td>\n",
              "      <td>15352.000000</td>\n",
              "      <td>15352.000000</td>\n",
              "      <td>1.535200e+04</td>\n",
              "    </tr>\n",
              "    <tr>\n",
              "      <th>mean</th>\n",
              "      <td>155.732348</td>\n",
              "      <td>13.434732</td>\n",
              "      <td>3.293968</td>\n",
              "      <td>2.624158e+04</td>\n",
              "    </tr>\n",
              "    <tr>\n",
              "      <th>std</th>\n",
              "      <td>115.567651</td>\n",
              "      <td>15.399161</td>\n",
              "      <td>9.114849</td>\n",
              "      <td>7.636344e+04</td>\n",
              "    </tr>\n",
              "    <tr>\n",
              "      <th>min</th>\n",
              "      <td>0.000000</td>\n",
              "      <td>1.000000</td>\n",
              "      <td>1.000000</td>\n",
              "      <td>0.000000e+00</td>\n",
              "    </tr>\n",
              "    <tr>\n",
              "      <th>25%</th>\n",
              "      <td>63.000000</td>\n",
              "      <td>3.000000</td>\n",
              "      <td>1.000000</td>\n",
              "      <td>6.952000e+03</td>\n",
              "    </tr>\n",
              "    <tr>\n",
              "      <th>50%</th>\n",
              "      <td>150.000000</td>\n",
              "      <td>8.000000</td>\n",
              "      <td>1.000000</td>\n",
              "      <td>1.197900e+04</td>\n",
              "    </tr>\n",
              "    <tr>\n",
              "      <th>75%</th>\n",
              "      <td>247.000000</td>\n",
              "      <td>18.000000</td>\n",
              "      <td>2.000000</td>\n",
              "      <td>2.000100e+04</td>\n",
              "    </tr>\n",
              "    <tr>\n",
              "      <th>max</th>\n",
              "      <td>365.000000</td>\n",
              "      <td>98.000000</td>\n",
              "      <td>365.000000</td>\n",
              "      <td>1.000053e+06</td>\n",
              "    </tr>\n",
              "  </tbody>\n",
              "</table>\n",
              "</div>"
            ],
            "text/plain": [
              "       availability_365  ...         price\n",
              "count      15352.000000  ...  1.535200e+04\n",
              "mean         155.732348  ...  2.624158e+04\n",
              "std          115.567651  ...  7.636344e+04\n",
              "min            0.000000  ...  0.000000e+00\n",
              "25%           63.000000  ...  6.952000e+03\n",
              "50%          150.000000  ...  1.197900e+04\n",
              "75%          247.000000  ...  2.000100e+04\n",
              "max          365.000000  ...  1.000053e+06\n",
              "\n",
              "[8 rows x 4 columns]"
            ]
          },
          "metadata": {
            "tags": []
          },
          "execution_count": 21
        }
      ]
    },
    {
      "cell_type": "markdown",
      "metadata": {
        "id": "j4YcFdSA_dN4",
        "colab_type": "text"
      },
      "source": [
        ""
      ]
    },
    {
      "cell_type": "markdown",
      "metadata": {
        "colab_type": "text",
        "id": "14GfwYqY_dtg"
      },
      "source": [
        "## Comprovações \n",
        "**Preço**\n",
        "\n",
        "o valor maximo do preço de aluguelpor dia é de 1.000.000 de yens, muito alto.\n",
        "\n",
        "Considerando que 75% dos imoveis são alugados por menos de 20.000 yens- algo errado\n",
        "\n",
        "**Minimo de noites**\n",
        "\n",
        "A média de noites de que alguem aluga é de 3.3 noites\n",
        "Portanto um máximo de 365 noites , deve estar errado"
      ]
    },
    {
      "cell_type": "markdown",
      "metadata": {
        "colab_type": "text",
        "id": "PlxaaU-l_m62"
      },
      "source": [
        "**A média do valor de aluguel é de 26.241 YENS**"
      ]
    },
    {
      "cell_type": "code",
      "metadata": {
        "id": "8-ETHzLiO1YE",
        "colab_type": "code",
        "colab": {
          "base_uri": "https://localhost:8080/",
          "height": 224
        },
        "outputId": "a8b41890-221c-4c1f-a121-2d9811d5b56e"
      },
      "source": [
        "df.price.plot(kind='box', vert=False, figsize=(15, 3))\n",
        "plt.show()"
      ],
      "execution_count": 22,
      "outputs": [
        {
          "output_type": "display_data",
          "data": {
            "image/png": "[encoded data removed]",
            "text/plain": [
              "<Figure size 1080x216 with 1 Axes>"
            ]
          },
          "metadata": {
            "tags": [],
            "needs_background": "light"
          }
        }
      ]
    },
    {
      "cell_type": "code",
      "metadata": {
        "id": "7ZZZYXxcO8ub",
        "colab_type": "code",
        "colab": {
          "base_uri": "https://localhost:8080/",
          "height": 68
        },
        "outputId": "a08df77c-b0a8-4e06-ee7d-14eb6f492e37"
      },
      "source": [
        "print(\"Preço: valores acima de 70000 yens:\")\n",
        "print(\"{} entradas\".format(len(df[df.price > 70000])))\n",
        "print(\"{:.4f}%\".format((len(df[df.price > 70000]) / df.shape[0])*100))"
      ],
      "execution_count": 25,
      "outputs": [
        {
          "output_type": "stream",
          "text": [
            "Preço: valores acima de 70000 yens:\n",
            "896 entradas\n",
            "5.8364%\n"
          ],
          "name": "stdout"
        }
      ]
    },
    {
      "cell_type": "markdown",
      "metadata": {
        "id": "3ibmyt-WQI71",
        "colab_type": "text"
      },
      "source": [
        "##Limpando os Outliers"
      ]
    },
    {
      "cell_type": "code",
      "metadata": {
        "id": "VeLSjt5WQRee",
        "colab_type": "code",
        "colab": {}
      },
      "source": [
        "df_clean = df.copy()\n",
        "df_clean.drop(df_clean[df_clean.price > 70000].index, axis=0 , inplace=True)\n",
        "df_clean.drop(df_clean[df_clean.minimum_nights > 15].index, axis=0, inplace = True)"
      ],
      "execution_count": 0,
      "outputs": []
    },
    {
      "cell_type": "code",
      "metadata": {
        "id": "mFohwzWqSQ2f",
        "colab_type": "code",
        "colab": {
          "base_uri": "https://localhost:8080/",
          "height": 879
        },
        "outputId": "9d72dbc0-b8b6-47d8-8af5-5d70fa7e7dbf"
      },
      "source": [
        "df_clean.hist(bins=15 ,figsize= (20,15));"
      ],
      "execution_count": 33,
      "outputs": [
        {
          "output_type": "display_data",
          "data": {
            "image/png": "[encoded data removed]",
            "text/plain": [
              "<Figure size 1440x1080 with 12 Axes>"
            ]
          },
          "metadata": {
            "tags": [],
            "needs_background": "light"
          }
        }
      ]
    },
    {
      "cell_type": "markdown",
      "metadata": {
        "id": "HCd4cYI-TlU4",
        "colab_type": "text"
      },
      "source": [
        "##Matriz - Indices de correlação\n",
        "\n",
        "##HeatMap"
      ]
    },
    {
      "cell_type": "markdown",
      "metadata": {
        "id": "IXn2oIo5qx-w",
        "colab_type": "text"
      },
      "source": [
        "### **Q5. Qual a correlação existente entre as variáveis**"
      ]
    },
    {
      "cell_type": "code",
      "metadata": {
        "id": "x2ayzBajqxyd",
        "colab_type": "code",
        "colab": {
          "base_uri": "https://localhost:8080/",
          "height": 235
        },
        "outputId": "f4f3c4da-7f2f-4457-8a2f-7bf3ba3628bf"
      },
      "source": [
        "# criar uma matriz de correlação\n",
        "corr = df_clean[['price', 'minimum_nights', 'number_of_reviews', 'reviews_per_month',\n",
        "    'calculated_host_listings_count', 'availability_365']].corr()\n",
        "\n",
        "\n",
        "# mostrar a matriz de correlação\n",
        "display(corr)\n"
      ],
      "execution_count": 35,
      "outputs": [
        {
          "output_type": "display_data",
          "data": {
            "text/html": [
              "<div>\n",
              "<style scoped>\n",
              "    .dataframe tbody tr th:only-of-type {\n",
              "        vertical-align: middle;\n",
              "    }\n",
              "\n",
              "    .dataframe tbody tr th {\n",
              "        vertical-align: top;\n",
              "    }\n",
              "\n",
              "    .dataframe thead th {\n",
              "        text-align: right;\n",
              "    }\n",
              "</style>\n",
              "<table border=\"1\" class=\"dataframe\">\n",
              "  <thead>\n",
              "    <tr style=\"text-align: right;\">\n",
              "      <th></th>\n",
              "      <th>price</th>\n",
              "      <th>minimum_nights</th>\n",
              "      <th>number_of_reviews</th>\n",
              "      <th>reviews_per_month</th>\n",
              "      <th>calculated_host_listings_count</th>\n",
              "      <th>availability_365</th>\n",
              "    </tr>\n",
              "  </thead>\n",
              "  <tbody>\n",
              "    <tr>\n",
              "      <th>price</th>\n",
              "      <td>1.000000</td>\n",
              "      <td>-0.048924</td>\n",
              "      <td>-0.050388</td>\n",
              "      <td>0.072851</td>\n",
              "      <td>0.083028</td>\n",
              "      <td>0.061129</td>\n",
              "    </tr>\n",
              "    <tr>\n",
              "      <th>minimum_nights</th>\n",
              "      <td>-0.048924</td>\n",
              "      <td>1.000000</td>\n",
              "      <td>0.045449</td>\n",
              "      <td>-0.029677</td>\n",
              "      <td>-0.067616</td>\n",
              "      <td>0.007895</td>\n",
              "    </tr>\n",
              "    <tr>\n",
              "      <th>number_of_reviews</th>\n",
              "      <td>-0.050388</td>\n",
              "      <td>0.045449</td>\n",
              "      <td>1.000000</td>\n",
              "      <td>0.661194</td>\n",
              "      <td>-0.158944</td>\n",
              "      <td>0.023426</td>\n",
              "    </tr>\n",
              "    <tr>\n",
              "      <th>reviews_per_month</th>\n",
              "      <td>0.072851</td>\n",
              "      <td>-0.029677</td>\n",
              "      <td>0.661194</td>\n",
              "      <td>1.000000</td>\n",
              "      <td>-0.110646</td>\n",
              "      <td>0.032425</td>\n",
              "    </tr>\n",
              "    <tr>\n",
              "      <th>calculated_host_listings_count</th>\n",
              "      <td>0.083028</td>\n",
              "      <td>-0.067616</td>\n",
              "      <td>-0.158944</td>\n",
              "      <td>-0.110646</td>\n",
              "      <td>1.000000</td>\n",
              "      <td>0.064690</td>\n",
              "    </tr>\n",
              "    <tr>\n",
              "      <th>availability_365</th>\n",
              "      <td>0.061129</td>\n",
              "      <td>0.007895</td>\n",
              "      <td>0.023426</td>\n",
              "      <td>0.032425</td>\n",
              "      <td>0.064690</td>\n",
              "      <td>1.000000</td>\n",
              "    </tr>\n",
              "  </tbody>\n",
              "</table>\n",
              "</div>"
            ],
            "text/plain": [
              "                                   price  ...  availability_365\n",
              "price                           1.000000  ...          0.061129\n",
              "minimum_nights                 -0.048924  ...          0.007895\n",
              "number_of_reviews              -0.050388  ...          0.023426\n",
              "reviews_per_month               0.072851  ...          0.032425\n",
              "calculated_host_listings_count  0.083028  ...          0.064690\n",
              "availability_365                0.061129  ...          1.000000\n",
              "\n",
              "[6 rows x 6 columns]"
            ]
          },
          "metadata": {
            "tags": []
          }
        }
      ]
    },
    {
      "cell_type": "markdown",
      "metadata": {
        "id": "gRDox-FcUM77",
        "colab_type": "text"
      },
      "source": [
        "##HeatMap"
      ]
    },
    {
      "cell_type": "code",
      "metadata": {
        "id": "91UujDr6ueqE",
        "colab_type": "code",
        "colab": {
          "base_uri": "https://localhost:8080/",
          "height": 411
        },
        "outputId": "94c5af0f-f506-4ad2-8010-70e968fd7f83"
      },
      "source": [
        "# plotar um heatmap a partir das correlações\n",
        "sns.heatmap(corr, cmap='RdBu', fmt='.2f', square=True, linecolor='white', annot=True);\n"
      ],
      "execution_count": 36,
      "outputs": [
        {
          "output_type": "display_data",
          "data": {
            "image/png": "[encoded data removed]",
            "text/plain": [
              "<Figure size 432x288 with 2 Axes>"
            ]
          },
          "metadata": {
            "tags": [],
            "needs_background": "light"
          }
        }
      ]
    },
    {
      "cell_type": "markdown",
      "metadata": {
        "id": "7b6RMWpuHKN-",
        "colab_type": "text"
      },
      "source": [
        "### **Q6. Qual o tipo de imóvel mais alugado no Airbnb?**"
      ]
    },
    {
      "cell_type": "markdown",
      "metadata": {
        "id": "DFliuDL_YN_v",
        "colab_type": "text"
      },
      "source": [
        "A denominação room_type é o tipo de imovel a ser alugado que está anunciado no Airbnb.\n",
        "\n",
        "Pode-se alugar apartamentos/casas inteiras,  quartos exclusivos e até quartos compartilhados\n",
        "\n",
        "vamos contar?"
      ]
    },
    {
      "cell_type": "code",
      "metadata": {
        "id": "ueLPNWvPHgfB",
        "colab_type": "code",
        "colab": {
          "base_uri": "https://localhost:8080/",
          "height": 102
        },
        "outputId": "c63f1239-01d5-4ed8-dd5d-2d8e9c8c755f"
      },
      "source": [
        "# mostrar a quantidade de cada tipo de imóvel disponível\n",
        "\n",
        "df_clean.room_type.value_counts()\n"
      ],
      "execution_count": 37,
      "outputs": [
        {
          "output_type": "execute_result",
          "data": {
            "text/plain": [
              "Entire home/apt    9113\n",
              "Private room       3127\n",
              "Shared room         708\n",
              "Hotel room          676\n",
              "Name: room_type, dtype: int64"
            ]
          },
          "metadata": {
            "tags": []
          },
          "execution_count": 37
        }
      ]
    },
    {
      "cell_type": "code",
      "metadata": {
        "id": "EvwoO-XAHhIm",
        "colab_type": "code",
        "colab": {}
      },
      "source": [
        "# mostrar a porcentagem de cada tipo de imóvel disponível\n"
      ],
      "execution_count": 0,
      "outputs": []
    },
    {
      "cell_type": "markdown",
      "metadata": {
        "id": "MFa5NbnLJMcd",
        "colab_type": "text"
      },
      "source": [
        "### **Q7. Qual a localidade mais cara do dataset?**\n",
        "\n"
      ]
    },
    {
      "cell_type": "code",
      "metadata": {
        "id": "MD_xa143JZpi",
        "colab_type": "code",
        "colab": {
          "base_uri": "https://localhost:8080/",
          "height": 561
        },
        "outputId": "0aa851be-af98-46eb-bf4b-c841229fd759"
      },
      "source": [
        "# ver preços por bairros, na média\n",
        "\n",
        "\n",
        "#df_clean.groupby([\"neighbourhood\"]).price.mean().sort_values(ascending=False)[:10]\n",
        "df_clean.groupby([\"neighbourhood\"]).price.mean().sort_values(ascending=False)[:30]"
      ],
      "execution_count": 47,
      "outputs": [
        {
          "output_type": "execute_result",
          "data": {
            "text/plain": [
              "neighbourhood\n",
              "Bunkyo Ku        21590.551724\n",
              "Hinohara Mura    18396.600000\n",
              "Minato Ku        18093.837067\n",
              "Tama Shi         17797.800000\n",
              "Shinagawa Ku     17734.060241\n",
              "Taito Ku         17723.154660\n",
              "Shibuya Ku       17205.544276\n",
              "Shinjuku Ku      16364.759484\n",
              "Itabashi Ku      15511.843854\n",
              "Chiyoda Ku       15452.989691\n",
              "Sumida Ku        15183.097561\n",
              "Miyake Mura      14963.000000\n",
              "Nakano Ku        14886.007092\n",
              "Fuchu Shi        14472.285714\n",
              "Chuo Ku          13463.131980\n",
              "Setagaya Ku      13339.282468\n",
              "Toshima Ku       13236.257977\n",
              "Ota Ku           13137.760563\n",
              "Meguro Ku        13072.468354\n",
              "Koto Ku          12930.178082\n",
              "Okutama Machi    12860.400000\n",
              "Mitaka Shi       12836.615385\n",
              "Kita Ku          12697.759644\n",
              "Arakawa Ku       12395.219219\n",
              "Edogawa Ku       12384.061674\n",
              "Komae Shi        12272.111111\n",
              "Katsushika Ku    11871.229167\n",
              "Kodaira Shi      10190.181818\n",
              "Suginami Ku      10182.221477\n",
              "Hachijo Machi    10011.166667\n",
              "Name: price, dtype: float64"
            ]
          },
          "metadata": {
            "tags": []
          },
          "execution_count": 47
        }
      ]
    },
    {
      "cell_type": "markdown",
      "metadata": {
        "id": "OeRKoDrUACw4",
        "colab_type": "text"
      },
      "source": [
        "##A localidade mais cara é Bunkyo Ku com média de preços de 21.591 yens"
      ]
    },
    {
      "cell_type": "code",
      "metadata": {
        "id": "ixe4463gXs6R",
        "colab_type": "code",
        "colab": {
          "base_uri": "https://localhost:8080/",
          "height": 374
        },
        "outputId": "5786d7c4-a2a8-4221-8dd6-200ceaafa46d"
      },
      "source": [
        "df_clean[\"neighbourhood\"].value_counts()[:20]"
      ],
      "execution_count": 48,
      "outputs": [
        {
          "output_type": "execute_result",
          "data": {
            "text/plain": [
              "Shinjuku Ku      2557\n",
              "Taito Ku         1985\n",
              "Toshima Ku       1473\n",
              "Sumida Ku        1230\n",
              "Shibuya Ku        926\n",
              "Ota Ku            497\n",
              "Minato Ku         491\n",
              "Nakano Ku         423\n",
              "Chuo Ku           394\n",
              "Katsushika Ku     384\n",
              "Kita Ku           337\n",
              "Arakawa Ku        333\n",
              "Setagaya Ku       308\n",
              "Itabashi Ku       301\n",
              "Suginami Ku       298\n",
              "Shinagawa Ku      249\n",
              "Edogawa Ku        227\n",
              "Koto Ku           219\n",
              "Chiyoda Ku        194\n",
              "Bunkyo Ku         174\n",
              "Name: neighbourhood, dtype: int64"
            ]
          },
          "metadata": {
            "tags": []
          },
          "execution_count": 48
        }
      ]
    },
    {
      "cell_type": "code",
      "metadata": {
        "id": "UxVJqJ_3W59I",
        "colab_type": "code",
        "colab": {}
      },
      "source": [
        "# plotar os imóveis pela latitude-longitude\n"
      ],
      "execution_count": 0,
      "outputs": []
    },
    {
      "cell_type": "markdown",
      "metadata": {
        "id": "7U9RezIFY8j6",
        "colab_type": "text"
      },
      "source": [
        "Shinjuku Ku 2557 localidade com mais imoveis disponiveis\n",
        "\n",
        "Bunkyo ku 20 lugar com 174\n",
        "\n",
        "2557 / 174 = 14 vezes a relação entre a localidade com mais imóveis para a localidade que é a 20 lugar.\n",
        "\n"
      ]
    },
    {
      "cell_type": "code",
      "metadata": {
        "id": "dgI-jy2nbPUy",
        "colab_type": "code",
        "colab": {
          "base_uri": "https://localhost:8080/",
          "height": 489
        },
        "outputId": "00f00ae3-8753-4ed3-ba84-a5f9876e41e4"
      },
      "source": [
        "#df_clean.plot(kind=\"scatter\", x='longitude', y='latitude', alpha=0.4, c=df_clean['price'], s=8,\n",
        "             # cmap=plt.get_cmap('jet'), figsize=(12,8))\n",
        "df_clean.plot(kind=\"scatter\" , x=\"longitude\" , y=\"latitude\",alpha=2.0, c=df_clean[\"price\"], s=8,\n",
        "              cmap=plt.get_cmap(\"jet\"),figsize=(12,8))"
      ],
      "execution_count": 57,
      "outputs": [
        {
          "output_type": "execute_result",
          "data": {
            "text/plain": [
              "<matplotlib.axes._subplots.AxesSubplot at 0x7fcc8068f908>"
            ]
          },
          "metadata": {
            "tags": []
          },
          "execution_count": 57
        },
        {
          "output_type": "display_data",
          "data": {
            "image/png": "[encoded data removed]",
            "text/plain": [
              "<Figure size 864x576 with 2 Axes>"
            ]
          },
          "metadata": {
            "tags": [],
            "needs_background": "light"
          }
        }
      ]
    },
    {
      "cell_type": "markdown",
      "metadata": {
        "id": "vTneAMRUYvr1",
        "colab_type": "text"
      },
      "source": [
        "### **Q8. Qual é a média do mínimo de noites para aluguel (minimum_nights)?**"
      ]
    },
    {
      "cell_type": "code",
      "metadata": {
        "id": "_VzNhrEgY82N",
        "colab_type": "code",
        "colab": {
          "base_uri": "https://localhost:8080/",
          "height": 34
        },
        "outputId": "98663648-1e96-4dfc-8012-7fca6bcdf93d"
      },
      "source": [
        "# ver a média da coluna `minimum_nights``\n",
        "df_clean.minimum_nights.mean()"
      ],
      "execution_count": 53,
      "outputs": [
        {
          "output_type": "execute_result",
          "data": {
            "text/plain": [
              "1.6122284204345274"
            ]
          },
          "metadata": {
            "tags": []
          },
          "execution_count": 53
        }
      ]
    },
    {
      "cell_type": "markdown",
      "metadata": {
        "id": "GkvAg623RjoR",
        "colab_type": "text"
      },
      "source": [
        "## Conclusões\n"
      ]
    }
  ]
}